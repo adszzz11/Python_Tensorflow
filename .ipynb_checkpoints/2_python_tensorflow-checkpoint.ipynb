{
 "cells": [
  {
   "cell_type": "markdown",
   "id": "094e7cda",
   "metadata": {},
   "source": [
    "<h1>텍스트 전처리(Text preprocessing)</h1>\n",
    ": 용도에 맞게 텍스트를 처리하는 작업.<br><br>\n",
    "\n",
    "<h1>토큰화(Tokenization)</h1>\n",
    ": 주어진 코퍼스에서 토큰이라 불리는 단위로 나누는 작업. 보통 의미있는 단위로 토큰 정의.<br>\n",
    "<h2>단어 토큰화(Word Tokenization)</h2>\n",
    ": 토큰의 기준을 단어(word)로 하는 경우<br>\n",
    " - 단순히 구두점이나 특수문자를 전부 제거하는 정제(cleaning) 작업을 수행하는 것만으로 해결되지 않음.<br>\n",
    "\n",
    "<h2>NLTK</h2>\n",
    ": 영어 코퍼스를 토큰화하기 위한 도구 제공"
   ]
  },
  {
   "cell_type": "markdown",
   "id": "321da972",
   "metadata": {},
   "source": [
    " - word_tokenize를 사용하여 처리한 구문<br>\n",
    "    Don't를 Do와 n't로 분리, Jone's는 Jone과 's로 분리"
   ]
  },
  {
   "cell_type": "code",
   "execution_count": 1,
   "id": "b920244b",
   "metadata": {},
   "outputs": [
    {
     "name": "stdout",
     "output_type": "stream",
     "text": [
      "['Do', \"n't\", 'be', 'fooled', 'by', 'the', 'dark', 'sounding', 'name', ',', 'Mr.', 'Jone', \"'s\", 'Orphanage', 'is', 'as', 'cheery', 'as', 'cheery', 'goes', 'for', 'a', 'pastry', 'shop', '.']\n"
     ]
    }
   ],
   "source": [
    "from nltk.tokenize import word_tokenize\n",
    "print(word_tokenize(\"Don't be fooled by the dark sounding name, Mr. Jone's Orphanage is as cheery as cheery goes for a pastry shop.\"))  "
   ]
  },
  {
   "cell_type": "markdown",
   "id": "3a7f5a65",
   "metadata": {},
   "source": [
    " - WordPunctTokenizer를 사용하여 처리한 구문<br>\n",
    "    Don't를 Don, ', t로 분리, Jone's를 Jone, ', s로 분리"
   ]
  },
  {
   "cell_type": "code",
   "execution_count": 2,
   "id": "7dcccf05",
   "metadata": {},
   "outputs": [
    {
     "name": "stdout",
     "output_type": "stream",
     "text": [
      "['Don', \"'\", 't', 'be', 'fooled', 'by', 'the', 'dark', 'sounding', 'name', ',', 'Mr', '.', 'Jone', \"'\", 's', 'Orphanage', 'is', 'as', 'cheery', 'as', 'cheery', 'goes', 'for', 'a', 'pastry', 'shop', '.']\n"
     ]
    }
   ],
   "source": [
    "from nltk.tokenize import WordPunctTokenizer  \n",
    "print(WordPunctTokenizer().tokenize(\"Don't be fooled by the dark sounding name, Mr. Jone's Orphanage is as cheery as cheery goes for a pastry shop.\"))"
   ]
  },
  {
   "cell_type": "markdown",
   "id": "e10bd4a0",
   "metadata": {},
   "source": [
    " - 케라스의 text_to_word_sequence는 기본적으로 모든 알파벳을 소문자로 바꾸면서 마침표나 컴마, 느낌표 등의 구두점 제거.\n",
    " - Don't나 Jone's같은 경우 ' 보존"
   ]
  },
  {
   "cell_type": "code",
   "execution_count": 3,
   "id": "4c7868f2",
   "metadata": {},
   "outputs": [
    {
     "name": "stdout",
     "output_type": "stream",
     "text": [
      "[\"don't\", 'be', 'fooled', 'by', 'the', 'dark', 'sounding', 'name', 'mr', \"jone's\", 'orphanage', 'is', 'as', 'cheery', 'as', 'cheery', 'goes', 'for', 'a', 'pastry', 'shop']\n"
     ]
    }
   ],
   "source": [
    "from tensorflow.keras.preprocessing.text import text_to_word_sequence\n",
    "print(text_to_word_sequence(\"Don't be fooled by the dark sounding name, Mr. Jone's Orphanage is as cheery as cheery goes for a pastry shop.\"))"
   ]
  },
  {
   "cell_type": "markdown",
   "id": "1b0f66fa",
   "metadata": {},
   "source": [
    "<h2>토큰화 시 고려사항</h2>\n",
    "<h3>1. 구두점이나 특수문자를 단순 제외해서는 안 된다.</h3><br>\n",
    " - 단어들을 걸러낼 때, 구두점이나 특수 문자를 단순히 제외하는 것은 옳지 않다.<br>\n",
    "<h3>2. 줄임말과 단어 내에 띄어쓰기가 있는 경우</h3><br>\n",
    " - 사용 용도에 따라서, 하나의 단어 사이에 띄어쓰기가 있는 경우에도 하나의 토큰으로 봐야하는 경우도 있을 수 있으므로, 토큰화 작업은 단어를 하나로 인식할 수 있는 능력도 가져야함.<br>\n",
    "<h3>3. 표준 토큰화 예제</h3><br>\n",
    "<b>Penn Treebank Tokenization의 규칙</b><br>\n",
    " - 하이픈으로 구성된 단어는 하나로 유지<br>\n",
    " - doesn't와 같이 '로 '접어'가 함께하는 단어 분리<br>"
   ]
  },
  {
   "cell_type": "code",
   "execution_count": 4,
   "id": "39e4de4b",
   "metadata": {},
   "outputs": [
    {
     "name": "stdout",
     "output_type": "stream",
     "text": [
      "['Starting', 'a', 'home-based', 'restaurant', 'may', 'be', 'an', 'ideal.', 'it', 'does', \"n't\", 'have', 'a', 'food', 'chain', 'or', 'restaurant', 'of', 'their', 'own', '.']\n"
     ]
    }
   ],
   "source": [
    "from nltk.tokenize import TreebankWordTokenizer\n",
    "tokenizer=TreebankWordTokenizer()\n",
    "text=\"Starting a home-based restaurant may be an ideal. it doesn't have a food chain or restaurant of their own.\"\n",
    "print(tokenizer.tokenize(text))"
   ]
  },
  {
   "cell_type": "markdown",
   "id": "13531c33",
   "metadata": {},
   "source": [
    "<h2>문장 토큰화(Sentence Tokenization, 문장 분류)</h2>\n",
    ": 토큰의 단위가 문장(sentence)일 때의 토큰화 수행 방법<br><br>\n",
    "sent_tokenize를 이용한 NLTK 문장 토큰화 실습"
   ]
  },
  {
   "cell_type": "code",
   "execution_count": 5,
   "id": "4fa0f313",
   "metadata": {},
   "outputs": [
    {
     "name": "stdout",
     "output_type": "stream",
     "text": [
      "['His barber kept his word.', 'But keeping such a huge secret to himself was driving him crazy.', 'Finally, the barber went up a mountain and almost to the edge of a cliff.', 'He dug a hole in the midst of some reeds.', 'He looked about, to make sure no one was near.']\n"
     ]
    }
   ],
   "source": [
    "from nltk.tokenize import sent_tokenize\n",
    "text=\"His barber kept his word. But keeping such a huge secret to himself was driving him crazy. Finally, the barber went up a mountain and almost to the edge of a cliff. He dug a hole in the midst of some reeds. He looked about, to make sure no one was near.\"\n",
    "print(sent_tokenize(text))"
   ]
  },
  {
   "cell_type": "markdown",
   "id": "7e787b26",
   "metadata": {},
   "source": [
    "문장 중간에 마침표가 여러번 등장하는 경우"
   ]
  },
  {
   "cell_type": "code",
   "execution_count": 6,
   "id": "8dd6e136",
   "metadata": {
    "scrolled": true
   },
   "outputs": [
    {
     "name": "stdout",
     "output_type": "stream",
     "text": [
      "['I am actively looking for Ph.D. students.', 'and you are a Ph.D student.']\n"
     ]
    }
   ],
   "source": [
    "from nltk.tokenize import sent_tokenize\n",
    "text=\"I am actively looking for Ph.D. students. and you are a Ph.D student.\"\n",
    "print(sent_tokenize(text))"
   ]
  },
  {
   "cell_type": "markdown",
   "id": "dc6bcc11",
   "metadata": {},
   "source": [
    "NLTK는 단순히 마침표를 구분자로 하여 문장을 구분하지 않았기 때문에, Ph.D.를 문장 내의 단어로 인식하여 성공적으로 인식."
   ]
  },
  {
   "cell_type": "code",
   "execution_count": 2,
   "id": "f90751f8",
   "metadata": {
    "scrolled": true
   },
   "outputs": [
    {
     "name": "stdout",
     "output_type": "stream",
     "text": [
      "['딥 러닝 자연어 처리가 재미있기는 합니다.', '그런데 문제는 영어보다 한국어로 할 때 너무 어려워요.', '농담아니에요.', '이제 해보면 알걸요?']\n"
     ]
    }
   ],
   "source": [
    "import kss\n",
    "text='딥 러닝 자연어 처리가 재미있기는 합니다. 그런데 문제는 영어보다 한국어로 할 때 너무 어려워요. 농담아니에요. 이제 해보면 알걸요?'\n",
    "print(kss.split_sentences(text))"
   ]
  },
  {
   "cell_type": "markdown",
   "id": "9f39d44d",
   "metadata": {},
   "source": [
    "<h2>이진 분류기(Binary Classifier)</h2>\n",
    ":  예외 사항을 발생시키는 마침표의 처리를 위해서 입력에 따라 두 개의 클래스로 분류<br><br>\n",
    "1. 마침표(.)가 단어의 일부분일 경우. 즉, 마침표가 약어(abbreivation)로 쓰이는 경우<br>\n",
    "2. 마침표(.)가 정말로 문장의 구분자(boundary)일 경우<br><br>\n",
    "\n",
    "임의로 정한 여러가지 규칙을 코딩한 함수일 수도 있으며, 머신 러닝을 통해 이진 분류기를 구현\n"
   ]
  },
  {
   "cell_type": "markdown",
   "id": "bc8b64f5",
   "metadata": {},
   "source": [
    "<h2>한국어에서의 토큰화의 어려움.</h2>\n",
    "한국어는 영어와는 달리 띄어쓰기만으로는 토큰화를 하기에 부족함.<br> \n",
    "한국어가 영어와는 다른 형태를 가지는 언어인 교착어라는 점에서 어절 토큰화는 한국어 NLP에서 지양되고 있음.<br>\n",
    "<h3>1. 한국어는 교착어이다.</h3>\n",
    "한국어는 조사가 단어 뒤에 띄어쓰기 없이 바로 붙게 되는데, 같은 단어임에도 서로 다른 조사가 붙어서 다른 단어로 인식되면, 자연어 처리가 힘들고 번거로워지는 경우가 많음. 한국어 토큰화에서는 형태소란 개념 필요<br><br>\n",
    "\n",
    "<b>형태소(morpheme)란 뜻을 가진 가장 작은 말의 단위</b>\n",
    " - 자립 형태소 : 접사, 어미, 조사와 상관없이 자립하여 사용할 수 있는 형태소. 그 자체로 단어가 된다. 체언(명사, 대명사, 수사), 수식언(관형사, 부사), 감탄사 등이 있다.\n",
    " - 의존 형태소 : 다른 형태소와 결합하여 사용되는 형태소. 접사, 어미, 조사, 어간를 말한다.\n",
    "\n",
    "\n",
    "<h3>2. 한국어는 띄어쓰기가 영어보다 잘 지켜지지 않는다.</h3>\n",
    "사용하는 한국어 코퍼스가 뉴스 기사와 같이 띄어쓰기를 철저하게 지키려고 노력하는 글이라면 좋겠지만, 많은 경우에 띄어쓰기가 틀렸거나, 지켜지지 않는 코퍼스가 있음. 띄어쓰기가 지켜지지 않아도 글을 쉽게 이해할 수 있기 때문."
   ]
  },
  {
   "cell_type": "markdown",
   "id": "91f18037",
   "metadata": {},
   "source": [
    "<h2>품사 태깅(Part-of-speech tagging)</h2>\n",
    ": 단어 토큰화 과정에서 각 단어가 어떤 품사로 쓰였는지를 구분해놓는 작업<br>\n",
    "<h2>NLTK와 KoNLPy를 이용한 영어, 한국어 토큰화 실습</h2>\n",
    "NLTK를 사용한 실습"
   ]
  },
  {
   "cell_type": "code",
   "execution_count": 5,
   "id": "16c3c76d",
   "metadata": {},
   "outputs": [
    {
     "name": "stdout",
     "output_type": "stream",
     "text": [
      "['I', 'am', 'actively', 'looking', 'for', 'Ph.D.', 'students', '.', 'and', 'you', 'are', 'a', 'Ph.D.', 'student', '.']\n"
     ]
    },
    {
     "data": {
      "text/plain": [
       "[('I', 'PRP'),\n",
       " ('am', 'VBP'),\n",
       " ('actively', 'RB'),\n",
       " ('looking', 'VBG'),\n",
       " ('for', 'IN'),\n",
       " ('Ph.D.', 'NNP'),\n",
       " ('students', 'NNS'),\n",
       " ('.', '.'),\n",
       " ('and', 'CC'),\n",
       " ('you', 'PRP'),\n",
       " ('are', 'VBP'),\n",
       " ('a', 'DT'),\n",
       " ('Ph.D.', 'NNP'),\n",
       " ('student', 'NN'),\n",
       " ('.', '.')]"
      ]
     },
     "execution_count": 5,
     "metadata": {},
     "output_type": "execute_result"
    }
   ],
   "source": [
    "from nltk.tokenize import word_tokenize\n",
    "text=\"I am actively looking for Ph.D. students. and you are a Ph.D. student.\"\n",
    "print(word_tokenize(text))\n",
    "from nltk.tag import pos_tag\n",
    "x=word_tokenize(text)\n",
    "pos_tag(x)"
   ]
  },
  {
   "cell_type": "markdown",
   "id": "fe52632c",
   "metadata": {},
   "source": [
    "영어 문장에 대해 토큰화 수행, 이어서 품사 태깅 수행.<br>\n",
    "한국어 자연어 처리를 위해서는 KoNLPy라는 파이썬 패키지 사용.<br><br>\n",
    ".morphs() : 형태소 추출<br>\n",
    ".pos() : 품사 태깅(Part-of-speecch tagging)<br>\n",
    ".nouns() : 명사 추출<br>\n",
    "Okt를 사용한 실습"
   ]
  },
  {
   "cell_type": "code",
   "execution_count": 6,
   "id": "5389e1d0",
   "metadata": {},
   "outputs": [
    {
     "name": "stdout",
     "output_type": "stream",
     "text": [
      "['열심히', '코딩', '한', '당신', ',', '연휴', '에는', '여행', '을', '가봐요']\n"
     ]
    }
   ],
   "source": [
    "from konlpy.tag import Okt  \n",
    "okt=Okt()  \n",
    "print(okt.morphs(\"열심히 코딩한 당신, 연휴에는 여행을 가봐요\"))"
   ]
  },
  {
   "cell_type": "code",
   "execution_count": 7,
   "id": "ed8d63d3",
   "metadata": {},
   "outputs": [
    {
     "name": "stdout",
     "output_type": "stream",
     "text": [
      "[('열심히', 'Adverb'), ('코딩', 'Noun'), ('한', 'Josa'), ('당신', 'Noun'), (',', 'Punctuation'), ('연휴', 'Noun'), ('에는', 'Josa'), ('여행', 'Noun'), ('을', 'Josa'), ('가봐요', 'Verb')]\n"
     ]
    }
   ],
   "source": [
    "print(okt.pos(\"열심히 코딩한 당신, 연휴에는 여행을 가봐요\"))  "
   ]
  },
  {
   "cell_type": "markdown",
   "id": "45ad4aff",
   "metadata": {},
   "source": [
    "꼬꼬마 형태소 분석기를 사용한 토큰화"
   ]
  },
  {
   "cell_type": "markdown",
   "id": "697ad819",
   "metadata": {},
   "source": [
    "print(okt.nouns(\"열심히 코딩한 당신, 연휴에는 여행을 가봐요\"))  "
   ]
  },
  {
   "cell_type": "code",
   "execution_count": 8,
   "id": "a0f71a69",
   "metadata": {},
   "outputs": [
    {
     "name": "stdout",
     "output_type": "stream",
     "text": [
      "['열심히', '코딩', '하', 'ㄴ', '당신', ',', '연휴', '에', '는', '여행', '을', '가보', '아요']\n"
     ]
    }
   ],
   "source": [
    "from konlpy.tag import Kkma  \n",
    "kkma=Kkma()  \n",
    "print(kkma.morphs(\"열심히 코딩한 당신, 연휴에는 여행을 가봐요\"))"
   ]
  },
  {
   "cell_type": "code",
   "execution_count": 9,
   "id": "88b8ea2b",
   "metadata": {},
   "outputs": [
    {
     "name": "stdout",
     "output_type": "stream",
     "text": [
      "[('열심히', 'MAG'), ('코딩', 'NNG'), ('하', 'XSV'), ('ㄴ', 'ETD'), ('당신', 'NP'), (',', 'SP'), ('연휴', 'NNG'), ('에', 'JKM'), ('는', 'JX'), ('여행', 'NNG'), ('을', 'JKO'), ('가보', 'VV'), ('아요', 'EFN')]\n"
     ]
    }
   ],
   "source": [
    "print(kkma.pos(\"열심히 코딩한 당신, 연휴에는 여행을 가봐요\"))  "
   ]
  },
  {
   "cell_type": "code",
   "execution_count": 10,
   "id": "c2a35c21",
   "metadata": {},
   "outputs": [
    {
     "name": "stdout",
     "output_type": "stream",
     "text": [
      "['코딩', '당신', '연휴', '여행']\n"
     ]
    }
   ],
   "source": [
    "print(kkma.nouns(\"열심히 코딩한 당신, 연휴에는 여행을 가봐요\"))  "
   ]
  },
  {
   "cell_type": "markdown",
   "id": "51d67e2f",
   "metadata": {},
   "source": [
    "<h1>정제(Cleaning) and 정규화(Normalization)</h1>\n",
    ": 토큰화 작업 전,후에는 텍스트 데이터를 용도에 맞게 정제(cleaning) 및 정규화(normalization)하는 작업 필요<br>\n",
    " - 정제(cleaning) : 갖고 있는 코퍼스로부터 노이즈 데이터 제거.\n",
    " - 정규화(normalization) : 표현 방법이 다른 단어들을 통합시켜서 같은 단어로 조합.<br>\n",
    "<h2>규칙에 기반한 표기가 다른 단어들의 통합</h2>\n",
    "코딩을 통해 정의할 수 있는 정규화 규칙의 예로서, 같은 의미를 갖고있음에도, 표기가 다른 단어들을 하나의 단어로 정규화하는 방법 사용 가능.<br>\n",
    "<h2>대, 소문자 통합</h2>\n",
    ": 대, 소문자 통합 작업은 대부분 대문자를 소문자로 변환하는 소문자 변환작업으로 이루어짐.<br>\n",
    "대문자와 소문자가 구분되어야 하는 경우도 있기에, 무작정 통합해서는 안 되지만, 모든 코퍼스를 소무낮로 바꾸는 것이 종종 더 실용적인 해결책이 되기도 함.\n",
    "<h2>불필요한 단어의 제거(Removing Unnecessary Words)</h2>\n",
    ": 노이즈 데이터를 제거하는 것<br>\n",
    "1. 등장 빈도가 적은 단어(Removing Rare words)<br>\n",
    " - 텍스트 데이터에서 너무 적게 등장해서 자연어 처리에 도움이 되지 않는 단어들<br>\n",
    "2. 길이가 짧은 단어(Removing words with a very short length)<br>\n",
    " - 영어권 언어에서 길이가 짧은 단어들은 대부분 불용어에 해당.<br>"
   ]
  },
  {
   "cell_type": "code",
   "execution_count": 11,
   "id": "6298522e",
   "metadata": {},
   "outputs": [
    {
     "name": "stdout",
     "output_type": "stream",
     "text": [
      " was wondering anyone out there could enlighten this car.\n"
     ]
    }
   ],
   "source": [
    "import re\n",
    "text = \"I was wondering if anyone out there could enlighten me on this car.\"\n",
    "shortword = re.compile(r'\\W*\\b\\w{1,2}\\b')\n",
    "print(shortword.sub('', text))"
   ]
  },
  {
   "cell_type": "markdown",
   "id": "16dc96a1",
   "metadata": {},
   "source": [
    "<h2>정규 표현식(Regular Expression)</h2>\n",
    "코퍼스 내에서 계속해서 등장하는 글자들을 규칙에 기반하여 한 번에 제거하는 방식."
   ]
  },
  {
   "cell_type": "markdown",
   "id": "bb6fa9d7",
   "metadata": {},
   "source": [
    "<h1>어간 추출(Stemming) and 표제어 추출(Lemmatization)</h1>\n",
    ": 하나의 단어로 일반화시킬 수 있다면 하나의 단어로 일반화시켜서 문서 내의 단어 수를 줄이겠다는 것.<br><br>\n",
    "<h2>표제어 추출(Lemmatization)</h2>\n",
    ": 단어들로부터 표제어를 찾아가는 과정. 단어들이 다른 형태를 가지더라도, 그 뿌리 단어를 찾아가서 단어의 개수를 줄일 수 있는지 판단.<br><br>\n",
    "\n",
    "표제어 추출을 하는 가장 섬세한 방법은 단어의 형태학적 파싱을 먼저 진행하는 것.<br>\n",
    "형태소의 두 가지 종류<br>\n",
    "1. 어간(stem)<br>\n",
    ": 단어의 의미를 담고 있는 단어의 핵심 부분.<br>\n",
    "2. 접사(affix)<br>\n",
    ": 단어에 추가적인 의미를 주는 부분.<br><br>\n",
    "\n",
    "NLTK에서는 표제어 추출을 위한 도구인 WordNetLemmatizer 지원"
   ]
  },
  {
   "cell_type": "code",
   "execution_count": 16,
   "id": "4597065a",
   "metadata": {},
   "outputs": [
    {
     "name": "stdout",
     "output_type": "stream",
     "text": [
      "['policy', 'doing', 'organization', 'have', 'going', 'love', 'life', 'fly', 'dy', 'watched', 'ha', 'starting']\n"
     ]
    }
   ],
   "source": [
    "from nltk.stem import WordNetLemmatizer\n",
    "n=WordNetLemmatizer()\n",
    "words=['policy', 'doing', 'organization', 'have', 'going', 'love', 'lives', 'fly', 'dies', 'watched', 'has', 'starting']\n",
    "print([n.lemmatize(w) for w in words])"
   ]
  },
  {
   "cell_type": "markdown",
   "id": "75dd7156",
   "metadata": {},
   "source": [
    "dy나 ha와 같이 의미를 알 수 없는 적절하지 못한 단어 출력됨.<br>\n",
    "WordNetLemmatizer는 입력으로 단어가 동사 품사라는 사실을 알려줄 수 있음."
   ]
  },
  {
   "cell_type": "code",
   "execution_count": 18,
   "id": "f73c7bce",
   "metadata": {},
   "outputs": [
    {
     "data": {
      "text/plain": [
       "'have'"
      ]
     },
     "execution_count": 18,
     "metadata": {},
     "output_type": "execute_result"
    }
   ],
   "source": [
    "n.lemmatize('dies', 'v')\n",
    "n.lemmatize('watched', 'v')\n",
    "n.lemmatize('has', 'v')"
   ]
  },
  {
   "cell_type": "markdown",
   "id": "f30efae6",
   "metadata": {},
   "source": [
    "<h2>어간 추출(Stemming)</h2>\n",
    ": 어간을 추출하는 작업. 형태학적 분석을 단순화한 버전이라고 볼 수도 있고, 정해진 규칙만 보고 단어의 어미를 자르는 어림짐작의 작업이라고 볼 수도 있음.<br><br>\n",
    "\n",
    "어간 추출 후 나오는 결과 단어는 사전에 존재하지 않는 단어일 수 있음.<br><br>\n",
    "포터 알고리즘(Porter Algorithm)을 이용한 실습"
   ]
  },
  {
   "cell_type": "code",
   "execution_count": 19,
   "id": "c7417ba1",
   "metadata": {},
   "outputs": [
    {
     "name": "stdout",
     "output_type": "stream",
     "text": [
      "['This', 'was', 'not', 'the', 'map', 'we', 'found', 'in', 'Billy', 'Bones', \"'s\", 'chest', ',', 'but', 'an', 'accurate', 'copy', ',', 'complete', 'in', 'all', 'things', '--', 'names', 'and', 'heights', 'and', 'soundings', '--', 'with', 'the', 'single', 'exception', 'of', 'the', 'red', 'crosses', 'and', 'the', 'written', 'notes', '.']\n"
     ]
    }
   ],
   "source": [
    "from nltk.stem import PorterStemmer\n",
    "from nltk.tokenize import word_tokenize\n",
    "s = PorterStemmer()\n",
    "text=\"This was not the map we found in Billy Bones's chest, but an accurate copy, complete in all things--names and heights and soundings--with the single exception of the red crosses and the written notes.\"\n",
    "words=word_tokenize(text)\n",
    "print(words)"
   ]
  },
  {
   "cell_type": "code",
   "execution_count": 20,
   "id": "74ef707d",
   "metadata": {},
   "outputs": [
    {
     "name": "stdout",
     "output_type": "stream",
     "text": [
      "['thi', 'wa', 'not', 'the', 'map', 'we', 'found', 'in', 'billi', 'bone', \"'s\", 'chest', ',', 'but', 'an', 'accur', 'copi', ',', 'complet', 'in', 'all', 'thing', '--', 'name', 'and', 'height', 'and', 'sound', '--', 'with', 'the', 'singl', 'except', 'of', 'the', 'red', 'cross', 'and', 'the', 'written', 'note', '.']\n"
     ]
    }
   ],
   "source": [
    "print([s.stem(w) for w in words])"
   ]
  },
  {
   "cell_type": "markdown",
   "id": "d7d9fd66",
   "metadata": {},
   "source": [
    "단순 규칙에 기반하여 이루어지기 때문에, 사전에 없는 단어들도 포함되어 있음.<br><br>\n",
    "어간 추출 규칙<br>\n",
    "ALIZE → AL<br>\n",
    "ANCE → 제거<br>\n",
    "ICAL → IC<br>"
   ]
  },
  {
   "cell_type": "code",
   "execution_count": 22,
   "id": "ffdcee68",
   "metadata": {},
   "outputs": [
    {
     "name": "stdout",
     "output_type": "stream",
     "text": [
      "['formal', 'allow', 'electric']\n"
     ]
    }
   ],
   "source": [
    "words=['formalize', 'allowance', 'electricical']\n",
    "print([s.stem(w) for w in words])"
   ]
  },
  {
   "cell_type": "markdown",
   "id": "40670a18",
   "metadata": {},
   "source": [
    "NLTK에서는 포터 알고리즘 외에도 랭커스터 스태머(Lancaster Stemmer) 알고리즘 지원.<br><br>\n",
    "\n",
    "포터 알고리즘과 랭커스터 스태머 알고리즘의 결과 비교"
   ]
  },
  {
   "cell_type": "code",
   "execution_count": 23,
   "id": "44e5c047",
   "metadata": {},
   "outputs": [
    {
     "name": "stdout",
     "output_type": "stream",
     "text": [
      "['polici', 'do', 'organ', 'have', 'go', 'love', 'live', 'fli', 'die', 'watch', 'ha', 'start']\n"
     ]
    }
   ],
   "source": [
    "from nltk.stem import PorterStemmer\n",
    "s=PorterStemmer()\n",
    "words=['policy', 'doing', 'organization', 'have', 'going', 'love', 'lives', 'fly', 'dies', 'watched', 'has', 'starting']\n",
    "print([s.stem(w) for w in words])"
   ]
  },
  {
   "cell_type": "code",
   "execution_count": 24,
   "id": "f383b404",
   "metadata": {
    "scrolled": true
   },
   "outputs": [
    {
     "name": "stdout",
     "output_type": "stream",
     "text": [
      "['policy', 'doing', 'org', 'hav', 'going', 'lov', 'liv', 'fly', 'die', 'watch', 'has', 'start']\n"
     ]
    }
   ],
   "source": [
    "from nltk.stem import LancasterStemmer\n",
    "l=LancasterStemmer()\n",
    "words=['policy', 'doing', 'organization', 'have', 'going', 'love', 'lives', 'fly', 'dies', 'watched', 'has', 'starting']\n",
    "print([l.stem(w) for w in words])"
   ]
  },
  {
   "cell_type": "markdown",
   "id": "bec82cf1",
   "metadata": {},
   "source": [
    "동일한 단어들의 나열에 대해서 두 스태머는 전혀 다른 결과를 보여줌.<br>\n",
    "두 스태머 알고리즘은 서로 다른 알고리즘을 사용하기 때문.<br><br>\n",
    "사용하고자 하는 코퍼스에 스태머를 적용해보고 어떤 스태머가 해당 코퍼스에 적합한지를 판단한 후에 사용해야 함.<br>\n",
    "<h2>한국어에서의 어간 추출</h2>"
   ]
  }
 ],
 "metadata": {
  "kernelspec": {
   "display_name": "Python 3",
   "language": "python",
   "name": "python3"
  },
  "language_info": {
   "codemirror_mode": {
    "name": "ipython",
    "version": 3
   },
   "file_extension": ".py",
   "mimetype": "text/x-python",
   "name": "python",
   "nbconvert_exporter": "python",
   "pygments_lexer": "ipython3",
   "version": "3.7.10"
  }
 },
 "nbformat": 4,
 "nbformat_minor": 5
}
