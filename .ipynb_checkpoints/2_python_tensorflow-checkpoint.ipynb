{
 "cells": [
  {
   "cell_type": "markdown",
   "id": "094e7cda",
   "metadata": {},
   "source": [
    "<h1>텍스트 전처리(Text preprocessing)</h1>\n",
    ": 용도에 맞게 텍스트를 처리하는 작업.<br><br>\n",
    "\n",
    "<h1>토큰화(Tokenization)</h1>\n",
    ": 주어진 코퍼스에서 토큰이라 불리는 단위로 나누는 작업. 보통 의미있는 단위로 토큰 정의.<br>\n",
    "<h2>단어 토큰화(Word Tokenization)</h2>\n",
    ": 토큰의 기준을 단어(word)로 하는 경우<br>\n",
    " - 단순히 구두점이나 특수문자를 전부 제거하는 정제(cleaning) 작업을 수행하는 것만으로 해결되지 않음.<br>\n",
    "\n",
    "<h2>NLTK</h2>\n",
    ": 영어 코퍼스를 토큰화하기 위한 도구 제공"
   ]
  },
  {
   "cell_type": "markdown",
   "id": "321da972",
   "metadata": {},
   "source": [
    " - word_tokenize를 사용하여 처리한 구문<br>\n",
    "    Don't를 Do와 n't로 분리, Jone's는 Jone과 's로 분리"
   ]
  },
  {
   "cell_type": "code",
   "execution_count": 1,
   "id": "b920244b",
   "metadata": {},
   "outputs": [
    {
     "name": "stdout",
     "output_type": "stream",
     "text": [
      "['Do', \"n't\", 'be', 'fooled', 'by', 'the', 'dark', 'sounding', 'name', ',', 'Mr.', 'Jone', \"'s\", 'Orphanage', 'is', 'as', 'cheery', 'as', 'cheery', 'goes', 'for', 'a', 'pastry', 'shop', '.']\n"
     ]
    }
   ],
   "source": [
    "from nltk.tokenize import word_tokenize\n",
    "print(word_tokenize(\"Don't be fooled by the dark sounding name, Mr. Jone's Orphanage is as cheery as cheery goes for a pastry shop.\"))  "
   ]
  },
  {
   "cell_type": "markdown",
   "id": "3a7f5a65",
   "metadata": {},
   "source": [
    " - WordPunctTokenizer를 사용하여 처리한 구문<br>\n",
    "    Don't를 Don, ', t로 분리, Jone's를 Jone, ', s로 분리"
   ]
  },
  {
   "cell_type": "code",
   "execution_count": 2,
   "id": "7dcccf05",
   "metadata": {},
   "outputs": [
    {
     "name": "stdout",
     "output_type": "stream",
     "text": [
      "['Don', \"'\", 't', 'be', 'fooled', 'by', 'the', 'dark', 'sounding', 'name', ',', 'Mr', '.', 'Jone', \"'\", 's', 'Orphanage', 'is', 'as', 'cheery', 'as', 'cheery', 'goes', 'for', 'a', 'pastry', 'shop', '.']\n"
     ]
    }
   ],
   "source": [
    "from nltk.tokenize import WordPunctTokenizer  \n",
    "print(WordPunctTokenizer().tokenize(\"Don't be fooled by the dark sounding name, Mr. Jone's Orphanage is as cheery as cheery goes for a pastry shop.\"))"
   ]
  },
  {
   "cell_type": "markdown",
   "id": "e10bd4a0",
   "metadata": {},
   "source": [
    " - 케라스의 text_to_word_sequence는 기본적으로 모든 알파벳을 소문자로 바꾸면서 마침표나 컴마, 느낌표 등의 구두점 제거.\n",
    " - Don't나 Jone's같은 경우 ' 보존"
   ]
  },
  {
   "cell_type": "code",
   "execution_count": 3,
   "id": "4c7868f2",
   "metadata": {},
   "outputs": [
    {
     "name": "stdout",
     "output_type": "stream",
     "text": [
      "[\"don't\", 'be', 'fooled', 'by', 'the', 'dark', 'sounding', 'name', 'mr', \"jone's\", 'orphanage', 'is', 'as', 'cheery', 'as', 'cheery', 'goes', 'for', 'a', 'pastry', 'shop']\n"
     ]
    }
   ],
   "source": [
    "from tensorflow.keras.preprocessing.text import text_to_word_sequence\n",
    "print(text_to_word_sequence(\"Don't be fooled by the dark sounding name, Mr. Jone's Orphanage is as cheery as cheery goes for a pastry shop.\"))"
   ]
  },
  {
   "cell_type": "markdown",
   "id": "1b0f66fa",
   "metadata": {},
   "source": [
    "<h2>토큰화 시 고려사항</h2>\n",
    "<h3>1. 구두점이나 특수문자를 단순 제외해서는 안 된다.</h3><br>\n",
    " - 단어들을 걸러낼 때, 구두점이나 특수 문자를 단순히 제외하는 것은 옳지 않다.<br>\n",
    "<h3>2. 줄임말과 단어 내에 띄어쓰기가 있는 경우</h3><br>\n",
    " - 사용 용도에 따라서, 하나의 단어 사이에 띄어쓰기가 있는 경우에도 하나의 토큰으로 봐야하는 경우도 있을 수 있으므로, 토큰화 작업은 단어를 하나로 인식할 수 있는 능력도 가져야함.<br>\n",
    "<h3>3. 표준 토큰화 예제</h3><br>\n",
    "<b>Penn Treebank Tokenization의 규칙</b><br>\n",
    " - 하이픈으로 구성된 단어는 하나로 유지<br>\n",
    " - doesn't와 같이 '로 '접어'가 함께하는 단어 분리<br>"
   ]
  },
  {
   "cell_type": "code",
   "execution_count": 4,
   "id": "39e4de4b",
   "metadata": {},
   "outputs": [
    {
     "name": "stdout",
     "output_type": "stream",
     "text": [
      "['Starting', 'a', 'home-based', 'restaurant', 'may', 'be', 'an', 'ideal.', 'it', 'does', \"n't\", 'have', 'a', 'food', 'chain', 'or', 'restaurant', 'of', 'their', 'own', '.']\n"
     ]
    }
   ],
   "source": [
    "from nltk.tokenize import TreebankWordTokenizer\n",
    "tokenizer=TreebankWordTokenizer()\n",
    "text=\"Starting a home-based restaurant may be an ideal. it doesn't have a food chain or restaurant of their own.\"\n",
    "print(tokenizer.tokenize(text))"
   ]
  },
  {
   "cell_type": "markdown",
   "id": "13531c33",
   "metadata": {},
   "source": [
    "<h2>문장 토큰화(Sentence Tokenization, 문장 분류)</h2>\n",
    ": 토큰의 단위가 문장(sentence)일 때의 토큰화 수행 방법<br><br>\n",
    "sent_tokenize를 이용한 NLTK 문장 토큰화 실습"
   ]
  },
  {
   "cell_type": "code",
   "execution_count": 5,
   "id": "4fa0f313",
   "metadata": {},
   "outputs": [
    {
     "name": "stdout",
     "output_type": "stream",
     "text": [
      "['His barber kept his word.', 'But keeping such a huge secret to himself was driving him crazy.', 'Finally, the barber went up a mountain and almost to the edge of a cliff.', 'He dug a hole in the midst of some reeds.', 'He looked about, to make sure no one was near.']\n"
     ]
    }
   ],
   "source": [
    "from nltk.tokenize import sent_tokenize\n",
    "text=\"His barber kept his word. But keeping such a huge secret to himself was driving him crazy. Finally, the barber went up a mountain and almost to the edge of a cliff. He dug a hole in the midst of some reeds. He looked about, to make sure no one was near.\"\n",
    "print(sent_tokenize(text))"
   ]
  },
  {
   "cell_type": "markdown",
   "id": "7e787b26",
   "metadata": {},
   "source": [
    "문장 중간에 마침표가 여러번 등장하는 경우"
   ]
  },
  {
   "cell_type": "code",
   "execution_count": 6,
   "id": "8dd6e136",
   "metadata": {
    "scrolled": true
   },
   "outputs": [
    {
     "name": "stdout",
     "output_type": "stream",
     "text": [
      "['I am actively looking for Ph.D. students.', 'and you are a Ph.D student.']\n"
     ]
    }
   ],
   "source": [
    "from nltk.tokenize import sent_tokenize\n",
    "text=\"I am actively looking for Ph.D. students. and you are a Ph.D student.\"\n",
    "print(sent_tokenize(text))"
   ]
  },
  {
   "cell_type": "markdown",
   "id": "dc6bcc11",
   "metadata": {},
   "source": [
    "NLTK는 단순히 마침표를 구분자로 하여 문장을 구분하지 않았기 때문에, Ph.D.를 문장 내의 단어로 인식하여 성공적으로 인식."
   ]
  },
  {
   "cell_type": "code",
   "execution_count": 2,
   "id": "f90751f8",
   "metadata": {
    "scrolled": true
   },
   "outputs": [
    {
     "name": "stdout",
     "output_type": "stream",
     "text": [
      "['딥 러닝 자연어 처리가 재미있기는 합니다.', '그런데 문제는 영어보다 한국어로 할 때 너무 어려워요.', '농담아니에요.', '이제 해보면 알걸요?']\n"
     ]
    }
   ],
   "source": [
    "import kss\n",
    "text='딥 러닝 자연어 처리가 재미있기는 합니다. 그런데 문제는 영어보다 한국어로 할 때 너무 어려워요. 농담아니에요. 이제 해보면 알걸요?'\n",
    "print(kss.split_sentences(text))"
   ]
  },
  {
   "cell_type": "markdown",
   "id": "9f39d44d",
   "metadata": {},
   "source": [
    "<h2>이진 분류기(Binary Classifier)</h2>\n",
    ":  예외 사항을 발생시키는 마침표의 처리를 위해서 입력에 따라 두 개의 클래스로 분류<br><br>\n",
    "1. 마침표(.)가 단어의 일부분일 경우. 즉, 마침표가 약어(abbreivation)로 쓰이는 경우<br>\n",
    "2. 마침표(.)가 정말로 문장의 구분자(boundary)일 경우<br><br>\n",
    "\n",
    "임의로 정한 여러가지 규칙을 코딩한 함수일 수도 있으며, 머신 러닝을 통해 이진 분류기를 구현\n"
   ]
  },
  {
   "cell_type": "markdown",
   "id": "bc8b64f5",
   "metadata": {},
   "source": [
    "<h2>한국어에서의 토큰화의 어려움.</h2>\n",
    "한국어는 영어와는 달리 띄어쓰기만으로는 토큰화를 하기에 부족함.<br> \n",
    "한국어가 영어와는 다른 형태를 가지는 언어인 교착어라는 점에서 어절 토큰화는 한국어 NLP에서 지양되고 있음.<br>\n",
    "<h3>1. 한국어는 교착어이다.</h3>\n",
    "한국어는 조사가 단어 뒤에 띄어쓰기 없이 바로 붙게 되는데, 같은 단어임에도 서로 다른 조사가 붙어서 다른 단어로 인식되면, 자연어 처리가 힘들고 번거로워지는 경우가 많음. 한국어 토큰화에서는 형태소란 개념 필요<br><br>\n",
    "\n",
    "<b>형태소(morpheme)란 뜻을 가진 가장 작은 말의 단위</b>\n",
    " - 자립 형태소 : 접사, 어미, 조사와 상관없이 자립하여 사용할 수 있는 형태소. 그 자체로 단어가 된다. 체언(명사, 대명사, 수사), 수식언(관형사, 부사), 감탄사 등이 있다.\n",
    " - 의존 형태소 : 다른 형태소와 결합하여 사용되는 형태소. 접사, 어미, 조사, 어간를 말한다.\n",
    "\n",
    "\n",
    "<h3>2. 한국어는 띄어쓰기가 영어보다 잘 지켜지지 않는다.</h3>\n",
    "사용하는 한국어 코퍼스가 뉴스 기사와 같이 띄어쓰기를 철저하게 지키려고 노력하는 글이라면 좋겠지만, 많은 경우에 띄어쓰기가 틀렸거나, 지켜지지 않는 코퍼스가 있음. 띄어쓰기가 지켜지지 않아도 글을 쉽게 이해할 수 있기 때문."
   ]
  },
  {
   "cell_type": "markdown",
   "id": "91f18037",
   "metadata": {},
   "source": [
    "<h2>품사 태깅(Part-of-speech tagging)</h2>\n",
    ": 단어 토큰화 과정에서 각 단어가 어떤 품사로 쓰였는지를 구분해놓는 작업<br>\n",
    "<h2>NLTK와 KoNLPy를 이용한 영어, 한국어 토큰화 실습</h2>\n",
    "NLTK를 사용한 실습"
   ]
  },
  {
   "cell_type": "code",
   "execution_count": 5,
   "id": "16c3c76d",
   "metadata": {},
   "outputs": [
    {
     "name": "stdout",
     "output_type": "stream",
     "text": [
      "['I', 'am', 'actively', 'looking', 'for', 'Ph.D.', 'students', '.', 'and', 'you', 'are', 'a', 'Ph.D.', 'student', '.']\n"
     ]
    },
    {
     "data": {
      "text/plain": [
       "[('I', 'PRP'),\n",
       " ('am', 'VBP'),\n",
       " ('actively', 'RB'),\n",
       " ('looking', 'VBG'),\n",
       " ('for', 'IN'),\n",
       " ('Ph.D.', 'NNP'),\n",
       " ('students', 'NNS'),\n",
       " ('.', '.'),\n",
       " ('and', 'CC'),\n",
       " ('you', 'PRP'),\n",
       " ('are', 'VBP'),\n",
       " ('a', 'DT'),\n",
       " ('Ph.D.', 'NNP'),\n",
       " ('student', 'NN'),\n",
       " ('.', '.')]"
      ]
     },
     "execution_count": 5,
     "metadata": {},
     "output_type": "execute_result"
    }
   ],
   "source": [
    "from nltk.tokenize import word_tokenize\n",
    "text=\"I am actively looking for Ph.D. students. and you are a Ph.D. student.\"\n",
    "print(word_tokenize(text))\n",
    "from nltk.tag import pos_tag\n",
    "x=word_tokenize(text)\n",
    "pos_tag(x)"
   ]
  },
  {
   "cell_type": "markdown",
   "id": "fe52632c",
   "metadata": {},
   "source": [
    "영어 문장에 대해 토큰화 수행, 이어서 품사 태깅 수행.<br>\n",
    "한국어 자연어 처리를 위해서는 KoNLPy라는 파이썬 패키지 사용.<br><br>\n",
    ".morphs() : 형태소 추출<br>\n",
    ".pos() : 품사 태깅(Part-of-speecch tagging)<br>\n",
    ".nouns() : 명사 추출<br>\n",
    "Okt를 사용한 실습"
   ]
  },
  {
   "cell_type": "code",
   "execution_count": 6,
   "id": "5389e1d0",
   "metadata": {},
   "outputs": [
    {
     "name": "stdout",
     "output_type": "stream",
     "text": [
      "['열심히', '코딩', '한', '당신', ',', '연휴', '에는', '여행', '을', '가봐요']\n"
     ]
    }
   ],
   "source": [
    "from konlpy.tag import Okt  \n",
    "okt=Okt()  \n",
    "print(okt.morphs(\"열심히 코딩한 당신, 연휴에는 여행을 가봐요\"))"
   ]
  },
  {
   "cell_type": "code",
   "execution_count": 7,
   "id": "ed8d63d3",
   "metadata": {},
   "outputs": [
    {
     "name": "stdout",
     "output_type": "stream",
     "text": [
      "[('열심히', 'Adverb'), ('코딩', 'Noun'), ('한', 'Josa'), ('당신', 'Noun'), (',', 'Punctuation'), ('연휴', 'Noun'), ('에는', 'Josa'), ('여행', 'Noun'), ('을', 'Josa'), ('가봐요', 'Verb')]\n"
     ]
    }
   ],
   "source": [
    "print(okt.pos(\"열심히 코딩한 당신, 연휴에는 여행을 가봐요\"))  "
   ]
  },
  {
   "cell_type": "markdown",
   "id": "45ad4aff",
   "metadata": {},
   "source": [
    "꼬꼬마 형태소 분석기를 사용한 토큰화"
   ]
  },
  {
   "cell_type": "markdown",
   "id": "697ad819",
   "metadata": {},
   "source": [
    "print(okt.nouns(\"열심히 코딩한 당신, 연휴에는 여행을 가봐요\"))  "
   ]
  },
  {
   "cell_type": "code",
   "execution_count": 8,
   "id": "a0f71a69",
   "metadata": {},
   "outputs": [
    {
     "name": "stdout",
     "output_type": "stream",
     "text": [
      "['열심히', '코딩', '하', 'ㄴ', '당신', ',', '연휴', '에', '는', '여행', '을', '가보', '아요']\n"
     ]
    }
   ],
   "source": [
    "from konlpy.tag import Kkma  \n",
    "kkma=Kkma()  \n",
    "print(kkma.morphs(\"열심히 코딩한 당신, 연휴에는 여행을 가봐요\"))"
   ]
  },
  {
   "cell_type": "code",
   "execution_count": 9,
   "id": "88b8ea2b",
   "metadata": {},
   "outputs": [
    {
     "name": "stdout",
     "output_type": "stream",
     "text": [
      "[('열심히', 'MAG'), ('코딩', 'NNG'), ('하', 'XSV'), ('ㄴ', 'ETD'), ('당신', 'NP'), (',', 'SP'), ('연휴', 'NNG'), ('에', 'JKM'), ('는', 'JX'), ('여행', 'NNG'), ('을', 'JKO'), ('가보', 'VV'), ('아요', 'EFN')]\n"
     ]
    }
   ],
   "source": [
    "print(kkma.pos(\"열심히 코딩한 당신, 연휴에는 여행을 가봐요\"))  "
   ]
  },
  {
   "cell_type": "code",
   "execution_count": 10,
   "id": "c2a35c21",
   "metadata": {},
   "outputs": [
    {
     "name": "stdout",
     "output_type": "stream",
     "text": [
      "['코딩', '당신', '연휴', '여행']\n"
     ]
    }
   ],
   "source": [
    "print(kkma.nouns(\"열심히 코딩한 당신, 연휴에는 여행을 가봐요\"))  "
   ]
  },
  {
   "cell_type": "markdown",
   "id": "51d67e2f",
   "metadata": {},
   "source": [
    "<h1>정제(Cleaning) and 정규화(Normalization)</h1>\n",
    ": 토큰화 작업 전,후에는 텍스트 데이터를 용도에 맞게 정제(cleaning) 및 정규화(normalization)하는 작업 필요<br>\n",
    " - 정제(cleaning) : 갖고 있는 코퍼스로부터 노이즈 데이터 제거.\n",
    " - 정규화(normalization) : 표현 방법이 다른 단어들을 통합시켜서 같은 단어로 조합.<br>\n",
    "<h2>규칙에 기반한 표기가 다른 단어들의 통합</h2>\n",
    "코딩을 통해 정의할 수 있는 정규화 규칙의 예로서, 같은 의미를 갖고있음에도, 표기가 다른 단어들을 하나의 단어로 정규화하는 방법 사용 가능.<br>\n",
    "<h2>대, 소문자 통합</h2>\n",
    ": 대, 소문자 통합 작업은 대부분 대문자를 소문자로 변환하는 소문자 변환작업으로 이루어짐.<br>\n",
    "대문자와 소문자가 구분되어야 하는 경우도 있기에, 무작정 통합해서는 안 되지만, 모든 코퍼스를 소무낮로 바꾸는 것이 종종 더 실용적인 해결책이 되기도 함.\n",
    "<h2>불필요한 단어의 제거(Removing Unnecessary Words)</h2>\n",
    ": 노이즈 데이터를 제거하는 것<br>\n",
    "1. 등장 빈도가 적은 단어(Removing Rare words)<br>\n",
    " - 텍스트 데이터에서 너무 적게 등장해서 자연어 처리에 도움이 되지 않는 단어들<br>\n",
    "2. 길이가 짧은 단어(Removing words with a very short length)<br>\n",
    " - 영어권 언어에서 길이가 짧은 단어들은 대부분 불용어에 해당.<br>"
   ]
  },
  {
   "cell_type": "code",
   "execution_count": 11,
   "id": "6298522e",
   "metadata": {},
   "outputs": [
    {
     "name": "stdout",
     "output_type": "stream",
     "text": [
      " was wondering anyone out there could enlighten this car.\n"
     ]
    }
   ],
   "source": [
    "import re\n",
    "text = \"I was wondering if anyone out there could enlighten me on this car.\"\n",
    "shortword = re.compile(r'\\W*\\b\\w{1,2}\\b')\n",
    "print(shortword.sub('', text))"
   ]
  },
  {
   "cell_type": "markdown",
   "id": "16dc96a1",
   "metadata": {},
   "source": [
    "<h2>정규 표현식(Regular Expression)</h2>\n",
    "코퍼스 내에서 계속해서 등장하는 글자들을 규칙에 기반하여 한 번에 제거하는 방식."
   ]
  },
  {
   "cell_type": "markdown",
   "id": "bb6fa9d7",
   "metadata": {},
   "source": [
    "<h1>어간 추출(Stemming) and 표제어 추출(Lemmatization)</h1>\n",
    ": 하나의 단어로 일반화시킬 수 있다면 하나의 단어로 일반화시켜서 문서 내의 단어 수를 줄이겠다는 것.<br><br>\n",
    "<h2>표제어 추출(Lemmatization)</h2>\n",
    ": 단어들로부터 표제어를 찾아가는 과정. 단어들이 다른 형태를 가지더라도, 그 뿌리 단어를 찾아가서 단어의 개수를 줄일 수 있는지 판단.<br><br>\n",
    "\n",
    "표제어 추출을 하는 가장 섬세한 방법은 단어의 형태학적 파싱을 먼저 진행하는 것.<br>\n",
    "형태소의 두 가지 종류<br>\n",
    "1. 어간(stem)<br>\n",
    ": 단어의 의미를 담고 있는 단어의 핵심 부분.<br>\n",
    "2. 접사(affix)<br>\n",
    ": 단어에 추가적인 의미를 주는 부분.<br><br>\n",
    "\n",
    "NLTK에서는 표제어 추출을 위한 도구인 WordNetLemmatizer 지원"
   ]
  },
  {
   "cell_type": "code",
   "execution_count": 16,
   "id": "4597065a",
   "metadata": {},
   "outputs": [
    {
     "name": "stdout",
     "output_type": "stream",
     "text": [
      "['policy', 'doing', 'organization', 'have', 'going', 'love', 'life', 'fly', 'dy', 'watched', 'ha', 'starting']\n"
     ]
    }
   ],
   "source": [
    "from nltk.stem import WordNetLemmatizer\n",
    "n=WordNetLemmatizer()\n",
    "words=['policy', 'doing', 'organization', 'have', 'going', 'love', 'lives', 'fly', 'dies', 'watched', 'has', 'starting']\n",
    "print([n.lemmatize(w) for w in words])"
   ]
  },
  {
   "cell_type": "markdown",
   "id": "75dd7156",
   "metadata": {},
   "source": [
    "dy나 ha와 같이 의미를 알 수 없는 적절하지 못한 단어 출력됨.<br>\n",
    "WordNetLemmatizer는 입력으로 단어가 동사 품사라는 사실을 알려줄 수 있음."
   ]
  },
  {
   "cell_type": "code",
   "execution_count": 18,
   "id": "f73c7bce",
   "metadata": {},
   "outputs": [
    {
     "data": {
      "text/plain": [
       "'have'"
      ]
     },
     "execution_count": 18,
     "metadata": {},
     "output_type": "execute_result"
    }
   ],
   "source": [
    "n.lemmatize('dies', 'v')\n",
    "n.lemmatize('watched', 'v')\n",
    "n.lemmatize('has', 'v')"
   ]
  },
  {
   "cell_type": "markdown",
   "id": "f30efae6",
   "metadata": {},
   "source": [
    "<h2>어간 추출(Stemming)</h2>\n",
    ": 어간을 추출하는 작업. 형태학적 분석을 단순화한 버전이라고 볼 수도 있고, 정해진 규칙만 보고 단어의 어미를 자르는 어림짐작의 작업이라고 볼 수도 있음.<br><br>\n",
    "\n",
    "어간 추출 후 나오는 결과 단어는 사전에 존재하지 않는 단어일 수 있음.<br><br>\n",
    "포터 알고리즘(Porter Algorithm)을 이용한 실습"
   ]
  },
  {
   "cell_type": "code",
   "execution_count": 19,
   "id": "c7417ba1",
   "metadata": {},
   "outputs": [
    {
     "name": "stdout",
     "output_type": "stream",
     "text": [
      "['This', 'was', 'not', 'the', 'map', 'we', 'found', 'in', 'Billy', 'Bones', \"'s\", 'chest', ',', 'but', 'an', 'accurate', 'copy', ',', 'complete', 'in', 'all', 'things', '--', 'names', 'and', 'heights', 'and', 'soundings', '--', 'with', 'the', 'single', 'exception', 'of', 'the', 'red', 'crosses', 'and', 'the', 'written', 'notes', '.']\n"
     ]
    }
   ],
   "source": [
    "from nltk.stem import PorterStemmer\n",
    "from nltk.tokenize import word_tokenize\n",
    "s = PorterStemmer()\n",
    "text=\"This was not the map we found in Billy Bones's chest, but an accurate copy, complete in all things--names and heights and soundings--with the single exception of the red crosses and the written notes.\"\n",
    "words=word_tokenize(text)\n",
    "print(words)"
   ]
  },
  {
   "cell_type": "code",
   "execution_count": 20,
   "id": "74ef707d",
   "metadata": {},
   "outputs": [
    {
     "name": "stdout",
     "output_type": "stream",
     "text": [
      "['thi', 'wa', 'not', 'the', 'map', 'we', 'found', 'in', 'billi', 'bone', \"'s\", 'chest', ',', 'but', 'an', 'accur', 'copi', ',', 'complet', 'in', 'all', 'thing', '--', 'name', 'and', 'height', 'and', 'sound', '--', 'with', 'the', 'singl', 'except', 'of', 'the', 'red', 'cross', 'and', 'the', 'written', 'note', '.']\n"
     ]
    }
   ],
   "source": [
    "print([s.stem(w) for w in words])"
   ]
  },
  {
   "cell_type": "markdown",
   "id": "d7d9fd66",
   "metadata": {},
   "source": [
    "단순 규칙에 기반하여 이루어지기 때문에, 사전에 없는 단어들도 포함되어 있음.<br><br>\n",
    "어간 추출 규칙<br>\n",
    "ALIZE → AL<br>\n",
    "ANCE → 제거<br>\n",
    "ICAL → IC<br>"
   ]
  },
  {
   "cell_type": "code",
   "execution_count": 22,
   "id": "ffdcee68",
   "metadata": {},
   "outputs": [
    {
     "name": "stdout",
     "output_type": "stream",
     "text": [
      "['formal', 'allow', 'electric']\n"
     ]
    }
   ],
   "source": [
    "words=['formalize', 'allowance', 'electricical']\n",
    "print([s.stem(w) for w in words])"
   ]
  },
  {
   "cell_type": "markdown",
   "id": "40670a18",
   "metadata": {},
   "source": [
    "NLTK에서는 포터 알고리즘 외에도 랭커스터 스태머(Lancaster Stemmer) 알고리즘 지원.<br><br>\n",
    "\n",
    "포터 알고리즘과 랭커스터 스태머 알고리즘의 결과 비교"
   ]
  },
  {
   "cell_type": "code",
   "execution_count": 23,
   "id": "44e5c047",
   "metadata": {},
   "outputs": [
    {
     "name": "stdout",
     "output_type": "stream",
     "text": [
      "['polici', 'do', 'organ', 'have', 'go', 'love', 'live', 'fli', 'die', 'watch', 'ha', 'start']\n"
     ]
    }
   ],
   "source": [
    "from nltk.stem import PorterStemmer\n",
    "s=PorterStemmer()\n",
    "words=['policy', 'doing', 'organization', 'have', 'going', 'love', 'lives', 'fly', 'dies', 'watched', 'has', 'starting']\n",
    "print([s.stem(w) for w in words])"
   ]
  },
  {
   "cell_type": "code",
   "execution_count": 24,
   "id": "f383b404",
   "metadata": {
    "scrolled": true
   },
   "outputs": [
    {
     "name": "stdout",
     "output_type": "stream",
     "text": [
      "['policy', 'doing', 'org', 'hav', 'going', 'lov', 'liv', 'fly', 'die', 'watch', 'has', 'start']\n"
     ]
    }
   ],
   "source": [
    "from nltk.stem import LancasterStemmer\n",
    "l=LancasterStemmer()\n",
    "words=['policy', 'doing', 'organization', 'have', 'going', 'love', 'lives', 'fly', 'dies', 'watched', 'has', 'starting']\n",
    "print([l.stem(w) for w in words])"
   ]
  },
  {
   "cell_type": "markdown",
   "id": "bec82cf1",
   "metadata": {},
   "source": [
    "동일한 단어들의 나열에 대해서 두 스태머는 전혀 다른 결과를 보여줌.<br>\n",
    "두 스태머 알고리즘은 서로 다른 알고리즘을 사용하기 때문.<br><br>\n",
    "사용하고자 하는 코퍼스에 스태머를 적용해보고 어떤 스태머가 해당 코퍼스에 적합한지를 판단한 후에 사용해야 함.<br>\n",
    "<h2>한국어에서의 어간 추출</h2>\n",
    "5언 9품사의 구조\n",
    "<table>\n",
    "<thead>\n",
    "<tr>\n",
    "<th>언</th>\n",
    "<th>품사</th>\n",
    "</tr>\n",
    "</thead>\n",
    "<tbody>\n",
    "<tr>\n",
    "<td>체언</td>\n",
    "<td>명사, 대명사, 수사</td>\n",
    "</tr>\n",
    "<tr>\n",
    "<td>수식언</td>\n",
    "<td>관형사, 부사</td>\n",
    "</tr>\n",
    "<tr>\n",
    "<td>관계언</td>\n",
    "<td>조사</td>\n",
    "</tr>\n",
    "<tr>\n",
    "<td>독립언</td>\n",
    "<td>감탄사</td>\n",
    "</tr>\n",
    "<tr>\n",
    "<td><strong>용언</strong></td>\n",
    "<td><strong>동사, 형용사</strong></td>\n",
    "</tr>\n",
    "</tbody>\n",
    "</table>\n",
    "용언은 어간(stem)과 어미(ending)의 결합으로 구성됨.<br>\n",
    "<h3>활용(conjugation)</h3>\n",
    ": 어간이 어미를 가지는 일.<br><br>\n",
    "\n",
    "어간 : 언(동사, 형용사)을 활용할 때, 원칙적으로 모양이 변하지 않는 부분.<br>\n",
    "어미 : 용언의 어간 뒤에 붙어서 활용하면서 변하는 부분이며, 여러 문법적 기능을 수행<br><br>\n",
    "\n",
    "활용은 어간이 어미를 취할 때, 어간의 모습이 일정하다면 규칙 활용, 어간이나 어미의 모습이 변하는 불규칙 활용으로 나뉨.<br>\n",
    "\n",
    "<h3>1. 규칙 활용</h3>\n",
    ": 어간이 어미를 취할 때, 어간의 모습이 일정<br>\n",
    "이 경우 어간이 어미가 붙기 전과 후 모습이 같으므로, 규칙 기바능로 어미를 단순히 분리하면 어간 추출 가능.\n",
    "<h3>2. 불규칙 활용</h3>\n",
    ": 어간이 어미를 취할 때 어간의 모습이 바뀌거나 취하는 어미가 특수한 어미일 경우<br>\n",
    "이 경우 어간이 어미가 붙는 과정에서 모습이 바뀌었으므로 단순한 분리만으로 어간 추출이 되지 않고 좀 더 복잡한 규칙을 필요로 함.<br>\n",
    "\n",
    "<h1>불용어(Stopword)</h1>\n",
    ": 갖고 있는 데이터에서 유의미한 단어 토큰만을 선별하기 위해서는 큰 의미가 없는 단어 토큰을 제거하는 작업이 필요<br><br>"
   ]
  },
  {
   "cell_type": "code",
   "execution_count": 1,
   "id": "6f786f80",
   "metadata": {},
   "outputs": [
    {
     "data": {
      "text/plain": [
       "['i', 'me', 'my', 'myself', 'we', 'our', 'ours', 'ourselves', 'you', \"you're\"]"
      ]
     },
     "execution_count": 1,
     "metadata": {},
     "output_type": "execute_result"
    }
   ],
   "source": [
    "# NLTK가 정의한 영어 불용어 확인 \n",
    "from nltk.corpus import stopwords  \n",
    "stopwords.words('english')[:10]"
   ]
  },
  {
   "cell_type": "code",
   "execution_count": 3,
   "id": "24acba86",
   "metadata": {},
   "outputs": [
    {
     "name": "stdout",
     "output_type": "stream",
     "text": [
      "['Family', 'is', 'not', 'an', 'important', 'thing', '.', 'It', \"'s\", 'everything', '.']\n",
      "['Family', 'important', 'thing', '.', 'It', \"'s\", 'everything', '.']\n"
     ]
    }
   ],
   "source": [
    "# NLTK를 통해서 불용어 제거하기\n",
    "from nltk.corpus import stopwords \n",
    "from nltk.tokenize import word_tokenize \n",
    "\n",
    "example = \"Family is not an important thing. It's everything.\"\n",
    "stop_words = set(stopwords.words('english')) \n",
    "\n",
    "word_tokens = word_tokenize(example)\n",
    "\n",
    "result = []\n",
    "for w in word_tokens: \n",
    "    if w not in stop_words: \n",
    "        result.append(w) \n",
    "\n",
    "print(word_tokens) \n",
    "print(result) "
   ]
  },
  {
   "cell_type": "code",
   "execution_count": 4,
   "id": "07f5b26d",
   "metadata": {},
   "outputs": [
    {
     "name": "stdout",
     "output_type": "stream",
     "text": [
      "['고기를', '아무렇게나', '구우려고', '하면', '안', '돼', '.', '고기라고', '다', '같은', '게', '아니거든', '.', '예컨대', '삼겹살을', '구울', '때는', '중요한', '게', '있지', '.']\n",
      "['고기를', '구우려고', '안', '돼', '.', '고기라고', '다', '같은', '게', '.', '삼겹살을', '구울', '때는', '중요한', '게', '있지', '.']\n"
     ]
    }
   ],
   "source": [
    "# 한국어에서 직접 불용어 정의 후 불용어 제거하기\n",
    "from nltk.corpus import stopwords \n",
    "from nltk.tokenize import word_tokenize \n",
    "\n",
    "example = \"고기를 아무렇게나 구우려고 하면 안 돼. 고기라고 다 같은 게 아니거든. 예컨대 삼겹살을 구울 때는 중요한 게 있지.\"\n",
    "stop_words = \"아무거나 아무렇게나 어찌하든지 같다 비슷하다 예컨대 이럴정도로 하면 아니거든\"\n",
    "# 위의 불용어는 명사가 아닌 단어 중에서 저자가 임의로 선정한 것으로 실제 의미있는 선정 기준이 아님\n",
    "stop_words=stop_words.split(' ')\n",
    "word_tokens = word_tokenize(example)\n",
    "\n",
    "result = [] \n",
    "for w in word_tokens: \n",
    "    if w not in stop_words: \n",
    "        result.append(w) \n",
    "# 위의 4줄은 아래의 한 줄로 대체 가능\n",
    "# result=[word for word in word_tokens if not word in stop_words]\n",
    "\n",
    "print(word_tokens) \n",
    "print(result)"
   ]
  },
  {
   "cell_type": "markdown",
   "id": "964e5056",
   "metadata": {},
   "source": [
    "한국어 불용얼를 제거할 때는 txt, csv로 단어를 정리하고, 이를 불러와서 사용하는 방법."
   ]
  },
  {
   "cell_type": "markdown",
   "id": "f3731ae2",
   "metadata": {},
   "source": [
    "<h1>정규 표현식(Regular Expression)</h1>\n",
    ": 텍스트 데이터를 빠르게 정제하는 방법.<br><br>\n",
    "<h2>정규 표현식 문법과 모듈 함수</h2>\n",
    ": 파이썬에서는 정규 표현식 모듈 re 지원, 이를 이용하면 특정 규칙이 있는 텍스트 데이터를 빠르게 정제할 수 있음.\n",
    "<h3>1) 정규 표현식 문법</h3><br>\n",
    "<h4>문법 중 특수 문자들</h4>\n",
    "<table>\n",
    "<thead>\n",
    "<tr>\n",
    "<th>모듈 함수</th>\n",
    "<th>설명</th>\n",
    "</tr>\n",
    "</thead>\n",
    "<tbody>\n",
    "<tr>\n",
    "<td>re.compile()</td>\n",
    "<td>정규표현식을 컴파일하는 함수. -> 파이썬에게 전해주는 역할. 찾고자 하는 패턴이 빈번한 경우에는 미리 컴파일해놓고 사용하면 속도와 편의성면에서 유리.</td>\n",
    "</tr>\n",
    "<tr>\n",
    "<td>re.search()</td>\n",
    "<td>문자열 전체에 대해서 정규표현식과 매치되는지 검색.</td>\n",
    "</tr>\n",
    "<tr>\n",
    "<td>re.match()</td>\n",
    "<td>문자열의 처음이 정규표현식과 매치되는지 검색.</td>\n",
    "</tr>\n",
    "<tr>\n",
    "<td>re.split()</td>\n",
    "<td>정규 표현식을 기준으로 문자열을 분리하여 리스트로 리턴.</td>\n",
    "</tr>\n",
    "<tr>\n",
    "<td>re.findall()</td>\n",
    "<td>문자열에서 정규 표현식과 매치되는 모든 경우의 문자열을 찾아서 리스트로 리턴. 만약, 매치되는 문자열이 없다면 빈 리스트 리턴.</td>\n",
    "</tr>\n",
    "<tr>\n",
    "<td>re.finditer()</td>\n",
    "<td>문자열에서 정규 표현식과 매치되는 모든 경우의 문자열에 대한 이터레이터 객체 리턴</td>\n",
    "</tr>\n",
    "<tr>\n",
    "<td>re.sub()</td>\n",
    "<td>문자열에서 정규 표현식과 일치하는 부분에 대해서 다른 문자열로 대체</td>\n",
    "</tr>\n",
    "</tbody>\n",
    "</table>\n",
    "<h4>역슬래쉬를 이용한 문자 규칙</h4>\n",
    "<table>\n",
    "<thead>\n",
    "<tr>\n",
    "<th>문자 규칙</th>\n",
    "<th>설명</th>\n",
    "</tr>\n",
    "</thead>\n",
    "<tbody>\n",
    "<tr>\n",
    "<td><span>\\</span></td>\n",
    "<td>역 슬래쉬 문자 자체를 의미.</td>\n",
    "</tr>\n",
    "<tr>\n",
    "<td>\\d</td>\n",
    "<td>모든 숫자를 의미. [0-9]와 의미 동일.</td>\n",
    "</tr>\n",
    "<tr>\n",
    "<td>\\D</td>\n",
    "<td>숫자를 제외한 모든 문자 의미. [^0-9]와 의미 동일.</td>\n",
    "</tr>\n",
    "<tr>\n",
    "<td>\\s</td>\n",
    "<td>공백 의미. [ \\t\\n\\r\\f\\v]와 의미 동일.</td>\n",
    "</tr>\n",
    "<tr>\n",
    "<td>\\S</td>\n",
    "<td>공백을 제외한 문자 의미. [^ \\t\\n\\r\\f\\v]와 의미 동일.</td>\n",
    "</tr>\n",
    "<tr>\n",
    "<td>\\w</td>\n",
    "<td>문자 또는 숫자 의미. [a-zA-Z0-9]와 의미 동일.</td>\n",
    "</tr>\n",
    "<tr>\n",
    "<td>\\W</td>\n",
    "<td>문자 또는 숫자가 아닌 문자 의미. [^a-zA-Z0-9]와 의미 동일.</td>\n",
    "</tr>\n",
    "</tbody>\n",
    "</table><br>\n",
    "<h3>정규 표현식 실습</h3>\n",
    "<h4>1) .기호</h4>\n",
    ": 한 개의 임의의 문자를 나타냄.<br>\n",
    "ex><br>\n",
    "a.c -> a와 c 사이에 있는 1개의 문자(아무거나)<br>"
   ]
  },
  {
   "cell_type": "code",
   "execution_count": 8,
   "id": "8345be04",
   "metadata": {},
   "outputs": [],
   "source": [
    "import re\n",
    "r=re.compile(\"a.c\")\n",
    "r.search(\"kkk\") # 아무런 결과도 출력되지 않는다."
   ]
  },
  {
   "cell_type": "code",
   "execution_count": 9,
   "id": "27f3b69e",
   "metadata": {},
   "outputs": [
    {
     "data": {
      "text/plain": [
       "<re.Match object; span=(0, 3), match='abc'>"
      ]
     },
     "execution_count": 9,
     "metadata": {},
     "output_type": "execute_result"
    }
   ],
   "source": [
    "r.search(\"abc\")"
   ]
  },
  {
   "cell_type": "markdown",
   "id": "7b26a691",
   "metadata": {},
   "source": [
    "<h4>2) ?기호</h4>\n",
    ": ? 앞의 문자가 존재할 수도 있고 존재하지 않을 수도 있는 경우를 나타냄.<br>\n",
    "ex><br>\n",
    "ab?c -> b가 있을수도 있고 없을수도 있음"
   ]
  },
  {
   "cell_type": "code",
   "execution_count": 10,
   "id": "ceb54191",
   "metadata": {},
   "outputs": [],
   "source": [
    "r=re.compile(\"ab?c\")\n",
    "r.search(\"abbc\") # 아무런 결과도 출력되지 않는다."
   ]
  },
  {
   "cell_type": "code",
   "execution_count": 11,
   "id": "1cd5f6b5",
   "metadata": {},
   "outputs": [
    {
     "data": {
      "text/plain": [
       "<re.Match object; span=(0, 3), match='abc'>"
      ]
     },
     "execution_count": 11,
     "metadata": {},
     "output_type": "execute_result"
    }
   ],
   "source": [
    "r.search(\"abc\")"
   ]
  },
  {
   "cell_type": "code",
   "execution_count": 13,
   "id": "09ee40c4",
   "metadata": {},
   "outputs": [
    {
     "data": {
      "text/plain": [
       "<re.Match object; span=(0, 2), match='ac'>"
      ]
     },
     "execution_count": 13,
     "metadata": {},
     "output_type": "execute_result"
    }
   ],
   "source": [
    "r.search(\"ac\")"
   ]
  },
  {
   "cell_type": "markdown",
   "id": "0a3566b6",
   "metadata": {},
   "source": [
    "<h4>3) *기호</h4>\n",
    ": *은 바로 앞의 문자가 0개 이상일 경우<br>\n",
    "ex><br>\n",
    "ab*c -> b가 존재하지 않을 수도 있으며, 여러 개일 수도 있음."
   ]
  },
  {
   "cell_type": "code",
   "execution_count": 14,
   "id": "df0ba7e1",
   "metadata": {},
   "outputs": [],
   "source": [
    "r=re.compile(\"ab*c\")\n",
    "r.search(\"a\") # 아무런 결과도 출력되지 않는다."
   ]
  },
  {
   "cell_type": "code",
   "execution_count": 15,
   "id": "1b4e1c5e",
   "metadata": {},
   "outputs": [
    {
     "data": {
      "text/plain": [
       "<re.Match object; span=(0, 2), match='ac'>"
      ]
     },
     "execution_count": 15,
     "metadata": {},
     "output_type": "execute_result"
    }
   ],
   "source": [
    "r.search(\"ac\")"
   ]
  },
  {
   "cell_type": "code",
   "execution_count": 16,
   "id": "eec3f64c",
   "metadata": {},
   "outputs": [
    {
     "data": {
      "text/plain": [
       "<re.Match object; span=(0, 3), match='abc'>"
      ]
     },
     "execution_count": 16,
     "metadata": {},
     "output_type": "execute_result"
    }
   ],
   "source": [
    "r.search(\"abc\") "
   ]
  },
  {
   "cell_type": "code",
   "execution_count": 17,
   "id": "a1c9220d",
   "metadata": {},
   "outputs": [
    {
     "data": {
      "text/plain": [
       "<re.Match object; span=(0, 6), match='abbbbc'>"
      ]
     },
     "execution_count": 17,
     "metadata": {},
     "output_type": "execute_result"
    }
   ],
   "source": [
    "r.search(\"abbbbc\") "
   ]
  },
  {
   "cell_type": "markdown",
   "id": "d322e078",
   "metadata": {},
   "source": [
    "<h4>4) +기호</h4>\n",
    ": *와 유사. 앞의 문자가 최소 1개 이상이어야 함.<br>\n",
    "ex><br>\n",
    "ab+c -> b가 하나 이상이어야 함."
   ]
  },
  {
   "cell_type": "code",
   "execution_count": 18,
   "id": "05f4dabf",
   "metadata": {},
   "outputs": [],
   "source": [
    "r=re.compile(\"ab+c\")\n",
    "r.search(\"ac\") # 아무런 결과도 출력되지 않는다."
   ]
  },
  {
   "cell_type": "code",
   "execution_count": 19,
   "id": "9aa2539d",
   "metadata": {},
   "outputs": [
    {
     "data": {
      "text/plain": [
       "<re.Match object; span=(0, 3), match='abc'>"
      ]
     },
     "execution_count": 19,
     "metadata": {},
     "output_type": "execute_result"
    }
   ],
   "source": [
    "r.search(\"abc\") "
   ]
  },
  {
   "cell_type": "code",
   "execution_count": 20,
   "id": "942ccdc2",
   "metadata": {},
   "outputs": [
    {
     "data": {
      "text/plain": [
       "<re.Match object; span=(0, 6), match='abbbbc'>"
      ]
     },
     "execution_count": 20,
     "metadata": {},
     "output_type": "execute_result"
    }
   ],
   "source": [
    "r.search(\"abbbbc\") "
   ]
  },
  {
   "cell_type": "markdown",
   "id": "a98f6298",
   "metadata": {},
   "source": [
    "<h4>5) ^기호</h4>\n",
    ": 시작되는 글자 지정.<br>\n",
    "ex><br>\n",
    "^a -> a로 시작되는 문자열만 검색."
   ]
  },
  {
   "cell_type": "code",
   "execution_count": 22,
   "id": "e731ec45",
   "metadata": {},
   "outputs": [],
   "source": [
    "r=re.compile(\"^a\")\n",
    "r.search(\"bbc\") # 아무런 결과도 출력되지 않는다."
   ]
  },
  {
   "cell_type": "code",
   "execution_count": 23,
   "id": "44724bc1",
   "metadata": {},
   "outputs": [
    {
     "data": {
      "text/plain": [
       "<re.Match object; span=(0, 1), match='a'>"
      ]
     },
     "execution_count": 23,
     "metadata": {},
     "output_type": "execute_result"
    }
   ],
   "source": [
    "r.search(\"ab\")    "
   ]
  },
  {
   "cell_type": "markdown",
   "id": "4ae9a69c",
   "metadata": {},
   "source": [
    "<h4>6) {숫자} 기호</h4>\n",
    ": 해당 문자를 숫자만큼 반복한 것.<br>\n",
    "ex><br>\n",
    "ab{2}c -> a와 c 사이에 b가 존재하면서 b가 2개인 문자열 검색."
   ]
  },
  {
   "cell_type": "code",
   "execution_count": 27,
   "id": "b6d06432",
   "metadata": {},
   "outputs": [],
   "source": [
    "r=re.compile(\"ab{2}c\")\n",
    "r.search(\"ac\") # 아무런 결과도 출력되지 않는다.\n",
    "r.search(\"abc\") # 아무런 결과도 출력되지 않는다.\n",
    "r.search(\"abbbbbc\") # 아무런 결과도 출력되지 않는다."
   ]
  },
  {
   "cell_type": "code",
   "execution_count": 26,
   "id": "7ffd9c78",
   "metadata": {},
   "outputs": [
    {
     "data": {
      "text/plain": [
       "<re.Match object; span=(0, 4), match='abbc'>"
      ]
     },
     "execution_count": 26,
     "metadata": {},
     "output_type": "execute_result"
    }
   ],
   "source": [
    "r.search(\"abbc\")"
   ]
  },
  {
   "cell_type": "markdown",
   "id": "3eccfbc8",
   "metadata": {},
   "source": [
    "<h4>7) {숫자1, 숫자2} 기호</h4>\n",
    ": 해당 문자를 숫자1 이상 숫자2 이하만큼 반복한 것.<br>\n",
    "ex><br>\n",
    "ab{2,8}c -> a와 c 사이에 b가 존재하면서 b가 2개 이상 8개 이하인 문자열 검색."
   ]
  },
  {
   "cell_type": "code",
   "execution_count": 29,
   "id": "b2d3a8f7",
   "metadata": {},
   "outputs": [],
   "source": [
    "r=re.compile(\"ab{2,8}c\")\n",
    "r.search(\"ac\") # 아무런 결과도 출력되지 않는다.\n",
    "r.search(\"abc\") # 아무런 결과도 출력되지 않는다.\n",
    "r.search(\"abbbbbbbbbc\") # 아무런 결과도 출력되지 않는다."
   ]
  },
  {
   "cell_type": "code",
   "execution_count": 30,
   "id": "9beea4bf",
   "metadata": {},
   "outputs": [
    {
     "data": {
      "text/plain": [
       "<re.Match object; span=(0, 4), match='abbc'>"
      ]
     },
     "execution_count": 30,
     "metadata": {},
     "output_type": "execute_result"
    }
   ],
   "source": [
    "r.search(\"abbc\")"
   ]
  },
  {
   "cell_type": "code",
   "execution_count": 31,
   "id": "d27dace6",
   "metadata": {},
   "outputs": [
    {
     "data": {
      "text/plain": [
       "<re.Match object; span=(0, 10), match='abbbbbbbbc'>"
      ]
     },
     "execution_count": 31,
     "metadata": {},
     "output_type": "execute_result"
    }
   ],
   "source": [
    "r.search(\"abbbbbbbbc\")"
   ]
  },
  {
   "cell_type": "markdown",
   "id": "4354b8b4",
   "metadata": {},
   "source": [
    "<h4>8) {숫자,} 기호</h4>\n",
    ": 해당 문자를 숫자 이상만큼 반복한 것.<br>\n",
    "ex><br>\n",
    "a{2,}bc -> 뒤에 bc가 붙으면서 a이 개수가 2개 이상인 문자열 검색."
   ]
  },
  {
   "cell_type": "code",
   "execution_count": 32,
   "id": "b4f48013",
   "metadata": {},
   "outputs": [],
   "source": [
    "r=re.compile(\"a{2,}bc\")\n",
    "r.search(\"bc\") # 아무런 결과도 출력되지 않는다.\n",
    "r.search(\"aa\") # 아무런 결과도 출력되지 않는다."
   ]
  },
  {
   "cell_type": "code",
   "execution_count": 33,
   "id": "094d2d1e",
   "metadata": {},
   "outputs": [
    {
     "data": {
      "text/plain": [
       "<re.Match object; span=(0, 4), match='aabc'>"
      ]
     },
     "execution_count": 33,
     "metadata": {},
     "output_type": "execute_result"
    }
   ],
   "source": [
    "r.search(\"aabc\")"
   ]
  },
  {
   "cell_type": "code",
   "execution_count": 34,
   "id": "d43e2870",
   "metadata": {},
   "outputs": [
    {
     "data": {
      "text/plain": [
       "<re.Match object; span=(0, 10), match='aaaaaaaabc'>"
      ]
     },
     "execution_count": 34,
     "metadata": {},
     "output_type": "execute_result"
    }
   ],
   "source": [
    "r.search(\"aaaaaaaabc\")"
   ]
  },
  {
   "cell_type": "markdown",
   "id": "ce9289fd",
   "metadata": {},
   "source": [
    "<h4>9) [ ] 기호</h4>\n",
    ": []안에 문자들을 넣으면 그 문자들 중 한 개의 문자와 매치.<br>\n",
    "ex><br>\n",
    "[abc] -> a or b or c가 들어가있는 문자열 검색. <br><br>\n",
    "범위 지정도 가능<br>\n",
    "[a-zA-Z] -> 알파벳 전부\n",
    "[0-9] -> 숫자 전부"
   ]
  },
  {
   "cell_type": "code",
   "execution_count": 36,
   "id": "488b8c7c",
   "metadata": {},
   "outputs": [],
   "source": [
    "r=re.compile(\"[abc]\") # [abc]는 [a-c]와 같다.\n",
    "r.search(\"zzz\") # 아무런 결과도 출력되지 않는다."
   ]
  },
  {
   "cell_type": "code",
   "execution_count": 37,
   "id": "b8210f32",
   "metadata": {},
   "outputs": [
    {
     "data": {
      "text/plain": [
       "<re.Match object; span=(0, 1), match='a'>"
      ]
     },
     "execution_count": 37,
     "metadata": {},
     "output_type": "execute_result"
    }
   ],
   "source": [
    "r.search(\"a\")"
   ]
  },
  {
   "cell_type": "code",
   "execution_count": 39,
   "id": "b2014d3a",
   "metadata": {},
   "outputs": [
    {
     "data": {
      "text/plain": [
       "<re.Match object; span=(0, 1), match='a'>"
      ]
     },
     "execution_count": 39,
     "metadata": {},
     "output_type": "execute_result"
    }
   ],
   "source": [
    "r.search(\"aaaaaaa\")  "
   ]
  },
  {
   "cell_type": "code",
   "execution_count": 40,
   "id": "5312294a",
   "metadata": {},
   "outputs": [
    {
     "data": {
      "text/plain": [
       "<re.Match object; span=(0, 1), match='b'>"
      ]
     },
     "execution_count": 40,
     "metadata": {},
     "output_type": "execute_result"
    }
   ],
   "source": [
    "r.search(\"baac\")     "
   ]
  },
  {
   "cell_type": "code",
   "execution_count": 44,
   "id": "b0476950",
   "metadata": {},
   "outputs": [],
   "source": [
    "r=re.compile(\"[a-z]\")\n",
    "r.search(\"AAA\") # 아무런 결과도 출력되지 않는다.\n",
    "r.search(\"111\") # 아무런 결과도 출력되지 않는다."
   ]
  },
  {
   "cell_type": "code",
   "execution_count": 42,
   "id": "9d3be5e4",
   "metadata": {},
   "outputs": [
    {
     "data": {
      "text/plain": [
       "<re.Match object; span=(0, 1), match='a'>"
      ]
     },
     "execution_count": 42,
     "metadata": {},
     "output_type": "execute_result"
    }
   ],
   "source": [
    "r.search(\"aBC\")"
   ]
  },
  {
   "cell_type": "markdown",
   "id": "c14484a5",
   "metadata": {},
   "source": [
    "<h4>10) [^문자] 기호</h4>\n",
    ": 그냥 ^와는 완전히 다른 의미. ^기호 뒤에 붙은 문자들을 제외한 모든 문자 검색.<br>\n",
    "ex><br>\n",
    "[^abc] -> a, b, c가 들어간 문자열을 제외한 모든 문자열 검색."
   ]
  },
  {
   "cell_type": "code",
   "execution_count": 45,
   "id": "f711c307",
   "metadata": {},
   "outputs": [],
   "source": [
    "r=re.compile(\"[^abc]\")\n",
    "r.search(\"a\") # 아무런 결과도 출력되지 않는다.\n",
    "r.search(\"ab\") # 아무런 결과도 출력되지 않는다.\n",
    "r.search(\"b\") # 아무런 결과도 출력되지 않는다."
   ]
  },
  {
   "cell_type": "code",
   "execution_count": 46,
   "id": "30f09b84",
   "metadata": {},
   "outputs": [
    {
     "data": {
      "text/plain": [
       "<re.Match object; span=(0, 1), match='d'>"
      ]
     },
     "execution_count": 46,
     "metadata": {},
     "output_type": "execute_result"
    }
   ],
   "source": [
    "r.search(\"d\")"
   ]
  },
  {
   "cell_type": "code",
   "execution_count": 47,
   "id": "28ad6afa",
   "metadata": {},
   "outputs": [
    {
     "data": {
      "text/plain": [
       "<re.Match object; span=(0, 1), match='1'>"
      ]
     },
     "execution_count": 47,
     "metadata": {},
     "output_type": "execute_result"
    }
   ],
   "source": [
    "r.search(\"1\")"
   ]
  },
  {
   "cell_type": "markdown",
   "id": "a917f27f",
   "metadata": {},
   "source": [
    "<h3>정규 표현식 모듈 함수 예제</h3>\n",
    "<h4>(1) re.match() 와 re.search()의 차이</h4><br>\n",
    "search() : 정규 표현식 전체에 대해서 문자열이 매치하는지 봄.<br>\n",
    "match() : 문자열의 첫 부분부터 정규 표현식과 매치하는지 확인. 문자열 중간에 찾을 패턴이 있다고 하더라도, match함수는 문자열의 시작에서 패턴이 일치하지 않으면 찾지 않음.<br>"
   ]
  },
  {
   "cell_type": "code",
   "execution_count": 49,
   "id": "efae1d93",
   "metadata": {},
   "outputs": [],
   "source": [
    "r=re.compile(\"ab.\")"
   ]
  },
  {
   "cell_type": "code",
   "execution_count": 50,
   "id": "cb128b9d",
   "metadata": {},
   "outputs": [
    {
     "data": {
      "text/plain": [
       "<re.Match object; span=(3, 6), match='abc'>"
      ]
     },
     "execution_count": 50,
     "metadata": {},
     "output_type": "execute_result"
    }
   ],
   "source": [
    "r.search(\"kkkabc\")  "
   ]
  },
  {
   "cell_type": "code",
   "execution_count": 51,
   "id": "d7bf99c1",
   "metadata": {},
   "outputs": [],
   "source": [
    "r.match(\"kkkabc\")  #아무런 결과도 출력되지 않는다."
   ]
  },
  {
   "cell_type": "code",
   "execution_count": 52,
   "id": "2ee2e232",
   "metadata": {},
   "outputs": [
    {
     "data": {
      "text/plain": [
       "<re.Match object; span=(0, 3), match='abc'>"
      ]
     },
     "execution_count": 52,
     "metadata": {},
     "output_type": "execute_result"
    }
   ],
   "source": [
    "r.match(\"abckkk\")  "
   ]
  },
  {
   "cell_type": "markdown",
   "id": "74fa5922",
   "metadata": {},
   "source": [
    "search 모듈 함수에 kkkabc라는 문자열을 넣어 매치되는지 확인한다면 abc라는 문자열에서 매치되어 Match object를 리턴.<br>\n",
    "match 모듈 함수의 경우 앞 부분이 ab.와 매치되지 않기때문에, 아무런 결과도 출력되지 않음. 반대로 abckkk로 매치를 시도해보면, 시작 부분에서 패턴과 매치되었기 때문에 정상적으로 Match object 리턴."
   ]
  },
  {
   "cell_type": "markdown",
   "id": "5e46a6ea",
   "metadata": {},
   "source": [
    "<h4>(2) re.split()</h4><br>\n",
    ": 입력된 정규 표현식을 기준으로 문자열들을 분리하여 리스트로 리턴.<br>\n",
    "자연어 처리에 있어 가장 많이 사용되는 정규 표현식 함수 중 하나, 토큰화에 유용하게 쓰임."
   ]
  },
  {
   "cell_type": "code",
   "execution_count": 53,
   "id": "4082aaa5",
   "metadata": {},
   "outputs": [
    {
     "data": {
      "text/plain": [
       "['사과', '딸기', '수박', '메론', '바나나']"
      ]
     },
     "execution_count": 53,
     "metadata": {},
     "output_type": "execute_result"
    }
   ],
   "source": [
    "text=\"사과 딸기 수박 메론 바나나\"\n",
    "re.split(\" \",text)"
   ]
  },
  {
   "cell_type": "code",
   "execution_count": 54,
   "id": "84b9d9b2",
   "metadata": {},
   "outputs": [
    {
     "data": {
      "text/plain": [
       "['사과', '딸기', '수박', '메론', '바나나']"
      ]
     },
     "execution_count": 54,
     "metadata": {},
     "output_type": "execute_result"
    }
   ],
   "source": [
    "text=\"\"\"사과\n",
    "딸기\n",
    "수박\n",
    "메론\n",
    "바나나\"\"\"\n",
    "re.split(\"\\n\",text)"
   ]
  },
  {
   "cell_type": "code",
   "execution_count": 55,
   "id": "17c0b698",
   "metadata": {},
   "outputs": [
    {
     "data": {
      "text/plain": [
       "['사과', '딸기', '수박', '메론', '바나나']"
      ]
     },
     "execution_count": 55,
     "metadata": {},
     "output_type": "execute_result"
    }
   ],
   "source": [
    "text=\"사과+딸기+수박+메론+바나나\"\n",
    "re.split(\"\\+\",text)\n",
    "['사과', '딸기', '수박', '메론', '바나나']  "
   ]
  },
  {
   "cell_type": "markdown",
   "id": "8e35d76d",
   "metadata": {},
   "source": [
    "<h4>(3) re.findall()</h4><br>\n",
    ": 정규 표현식과 매치하는 모든 문자열들 리스트로 리턴.<br>\n",
    "    매치되는 문자열이 없다면 빈 리스트 리턴"
   ]
  },
  {
   "cell_type": "code",
   "execution_count": 56,
   "id": "956f3cf4",
   "metadata": {},
   "outputs": [
    {
     "data": {
      "text/plain": [
       "['010', '1234', '1234', '30']"
      ]
     },
     "execution_count": 56,
     "metadata": {},
     "output_type": "execute_result"
    }
   ],
   "source": [
    "text=\"\"\"이름 : 김철수\n",
    "전화번호 : 010 - 1234 - 1234\n",
    "나이 : 30\n",
    "성별 : 남\"\"\"  \n",
    "re.findall(\"\\d+\",text)"
   ]
  },
  {
   "cell_type": "code",
   "execution_count": 57,
   "id": "5258c723",
   "metadata": {},
   "outputs": [
    {
     "data": {
      "text/plain": [
       "[]"
      ]
     },
     "execution_count": 57,
     "metadata": {},
     "output_type": "execute_result"
    }
   ],
   "source": [
    "re.findall(\"\\d+\", \"문자열입니다.\")"
   ]
  },
  {
   "cell_type": "markdown",
   "id": "3e3d2066",
   "metadata": {},
   "source": [
    "<h4>(4) re.sub()</h4><br>\n",
    "함수 정규 표현식 패턴과 일치하는 문자열을 찾아 다른 문자열로 대체."
   ]
  },
  {
   "cell_type": "code",
   "execution_count": 59,
   "id": "ad31aea4",
   "metadata": {},
   "outputs": [
    {
     "data": {
      "text/plain": [
       "'Regular expression   A regular expression  regex or regexp     sometimes called a rational expression        is  in theoretical computer science and formal language theory  a sequence of characters that define a search pattern '"
      ]
     },
     "execution_count": 59,
     "metadata": {},
     "output_type": "execute_result"
    }
   ],
   "source": [
    "text=\"Regular expression : A regular expression, regex or regexp[1] (sometimes called a rational expression)[2][3] is, in theoretical computer science and formal language theory, a sequence of characters that define a search pattern.\"\n",
    "re.sub('[^a-zA-Z]',' ',text)"
   ]
  },
  {
   "cell_type": "markdown",
   "id": "01371736",
   "metadata": {},
   "source": [
    "<h3>정규 표현식을 이용한 토큰화</h3>\n",
    "NLTK에서는 정규 표현식을 사용해서 단어 토큰화를 수행하는 RegexpTokenizer 지원"
   ]
  },
  {
   "cell_type": "code",
   "execution_count": 61,
   "id": "ea08d0a2",
   "metadata": {},
   "outputs": [
    {
     "name": "stdout",
     "output_type": "stream",
     "text": [
      "['Don', 't', 'be', 'fooled', 'by', 'the', 'dark', 'sounding', 'name', 'Mr', 'Jone', 's', 'Orphanage', 'is', 'as', 'cheery', 'as', 'cheery', 'goes', 'for', 'a', 'pastry', 'shop']\n"
     ]
    }
   ],
   "source": [
    "from nltk.tokenize import RegexpTokenizer\n",
    "tokenizer=RegexpTokenizer(\"[\\w]+\") # 문자 또는 숫자가 1개 이상인 경우 인식\n",
    "print(tokenizer.tokenize(\"Don't be fooled by the dark sounding name, Mr. Jone's Orphanage is as cheery as cheery goes for a pastry shop\"))"
   ]
  },
  {
   "cell_type": "code",
   "execution_count": 62,
   "id": "1b6ab748",
   "metadata": {},
   "outputs": [
    {
     "name": "stdout",
     "output_type": "stream",
     "text": [
      "[\"Don't\", 'be', 'fooled', 'by', 'the', 'dark', 'sounding', 'name,', 'Mr.', \"Jone's\", 'Orphanage', 'is', 'as', 'cheery', 'as', 'cheery', 'goes', 'for', 'a', 'pastry', 'shop']\n"
     ]
    }
   ],
   "source": [
    "tokenizer=RegexpTokenizer(\"[\\s]+\", gaps=True) # 공백을 기준으로 문장 토큰화\n",
    "print(tokenizer.tokenize(\"Don't be fooled by the dark sounding name, Mr. Jone's Orphanage is as cheery as cheery goes for a pastry shop\"))"
   ]
  },
  {
   "cell_type": "markdown",
   "id": "18efc47d",
   "metadata": {},
   "source": [
    " gaps=true는 해당 정규 표현식을 토큰으로 나누기 위한 기준으로 사용한다는 의미.<br>\n",
    " gaps=True라는 부분을 기재하지 않는다면, 토큰화의 결과는 공백들만 나오게 됨."
   ]
  },
  {
   "cell_type": "markdown",
   "id": "8f0c95ea",
   "metadata": {},
   "source": [
    "<h1>정수 인코딩(Integer Encoding)</h1>"
   ]
  },
  {
   "cell_type": "code",
   "execution_count": null,
   "id": "feba9e06",
   "metadata": {},
   "outputs": [],
   "source": []
  }
 ],
 "metadata": {
  "kernelspec": {
   "display_name": "Python 3",
   "language": "python",
   "name": "python3"
  },
  "language_info": {
   "codemirror_mode": {
    "name": "ipython",
    "version": 3
   },
   "file_extension": ".py",
   "mimetype": "text/x-python",
   "name": "python",
   "nbconvert_exporter": "python",
   "pygments_lexer": "ipython3",
   "version": "3.7.10"
  }
 },
 "nbformat": 4,
 "nbformat_minor": 5
}
