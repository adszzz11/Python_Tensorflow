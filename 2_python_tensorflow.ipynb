{
 "cells": [
  {
   "cell_type": "markdown",
   "id": "094e7cda",
   "metadata": {},
   "source": [
    "<h1>텍스트 전처리(Text preprocessing)</h1>\n",
    ": 용도에 맞게 텍스트를 처리하는 작업.<br><br>\n",
    "\n",
    "<h1>토큰화(Tokenization)</h1>\n",
    ": 주어진 코퍼스에서 토큰이라 불리는 단위로 나누는 작업. 보통 의미있는 단위로 토큰 정의.<br>\n",
    "<h2>단어 토큰화(Word Tokenization)</h2>\n",
    ": 토큰의 기준을 단어(word)로 하는 경우<br>\n",
    " - 단순히 구두점이나 특수문자를 전부 제거하는 정제(cleaning) 작업을 수행하는 것만으로 해결되지 않음.<br>\n",
    "\n",
    "<h2>NLTK</h2>\n",
    ": 영어 코퍼스를 토큰화하기 위한 도구 제공"
   ]
  },
  {
   "cell_type": "markdown",
   "id": "321da972",
   "metadata": {},
   "source": [
    " - word_tokenize를 사용하여 처리한 구문<br>\n",
    "    Don't를 Do와 n't로 분리, Jone's는 Jone과 's로 분리"
   ]
  },
  {
   "cell_type": "code",
   "execution_count": 1,
   "id": "b920244b",
   "metadata": {},
   "outputs": [
    {
     "name": "stdout",
     "output_type": "stream",
     "text": [
      "['Do', \"n't\", 'be', 'fooled', 'by', 'the', 'dark', 'sounding', 'name', ',', 'Mr.', 'Jone', \"'s\", 'Orphanage', 'is', 'as', 'cheery', 'as', 'cheery', 'goes', 'for', 'a', 'pastry', 'shop', '.']\n"
     ]
    }
   ],
   "source": [
    "from nltk.tokenize import word_tokenize\n",
    "print(word_tokenize(\"Don't be fooled by the dark sounding name, Mr. Jone's Orphanage is as cheery as cheery goes for a pastry shop.\"))  "
   ]
  },
  {
   "cell_type": "markdown",
   "id": "3a7f5a65",
   "metadata": {},
   "source": [
    " - WordPunctTokenizer를 사용하여 처리한 구문<br>\n",
    "    Don't를 Don, ', t로 분리, Jone's를 Jone, ', s로 분리"
   ]
  },
  {
   "cell_type": "code",
   "execution_count": 2,
   "id": "7dcccf05",
   "metadata": {},
   "outputs": [
    {
     "name": "stdout",
     "output_type": "stream",
     "text": [
      "['Don', \"'\", 't', 'be', 'fooled', 'by', 'the', 'dark', 'sounding', 'name', ',', 'Mr', '.', 'Jone', \"'\", 's', 'Orphanage', 'is', 'as', 'cheery', 'as', 'cheery', 'goes', 'for', 'a', 'pastry', 'shop', '.']\n"
     ]
    }
   ],
   "source": [
    "from nltk.tokenize import WordPunctTokenizer  \n",
    "print(WordPunctTokenizer().tokenize(\"Don't be fooled by the dark sounding name, Mr. Jone's Orphanage is as cheery as cheery goes for a pastry shop.\"))"
   ]
  },
  {
   "cell_type": "markdown",
   "id": "e10bd4a0",
   "metadata": {},
   "source": [
    " - 케라스의 text_to_word_sequence는 기본적으로 모든 알파벳을 소문자로 바꾸면서 마침표나 컴마, 느낌표 등의 구두점 제거.\n",
    " - Don't나 Jone's같은 경우 ' 보존"
   ]
  },
  {
   "cell_type": "code",
   "execution_count": 3,
   "id": "4c7868f2",
   "metadata": {},
   "outputs": [
    {
     "name": "stdout",
     "output_type": "stream",
     "text": [
      "[\"don't\", 'be', 'fooled', 'by', 'the', 'dark', 'sounding', 'name', 'mr', \"jone's\", 'orphanage', 'is', 'as', 'cheery', 'as', 'cheery', 'goes', 'for', 'a', 'pastry', 'shop']\n"
     ]
    }
   ],
   "source": [
    "from tensorflow.keras.preprocessing.text import text_to_word_sequence\n",
    "print(text_to_word_sequence(\"Don't be fooled by the dark sounding name, Mr. Jone's Orphanage is as cheery as cheery goes for a pastry shop.\"))"
   ]
  },
  {
   "cell_type": "markdown",
   "id": "1b0f66fa",
   "metadata": {},
   "source": [
    "<h2>토큰화 시 고려사항</h2>\n",
    "<h3>1. 구두점이나 특수문자를 단순 제외해서는 안 된다.</h3><br>\n",
    " - 단어들을 걸러낼 때, 구두점이나 특수 문자를 단순히 제외하는 것은 옳지 않다.<br>\n",
    "<h3>2. 줄임말과 단어 내에 띄어쓰기가 있는 경우</h3><br>\n",
    " - 사용 용도에 따라서, 하나의 단어 사이에 띄어쓰기가 있는 경우에도 하나의 토큰으로 봐야하는 경우도 있을 수 있으므로, 토큰화 작업은 단어를 하나로 인식할 수 있는 능력도 가져야함.<br>\n",
    "<h3>3. 표준 토큰화 예제</h3><br>\n",
    "<b>Penn Treebank Tokenization의 규칙</b><br>\n",
    " - 하이픈으로 구성된 단어는 하나로 유지<br>\n",
    " - doesn't와 같이 '로 '접어'가 함께하는 단어 분리<br>"
   ]
  },
  {
   "cell_type": "code",
   "execution_count": 4,
   "id": "39e4de4b",
   "metadata": {},
   "outputs": [
    {
     "name": "stdout",
     "output_type": "stream",
     "text": [
      "['Starting', 'a', 'home-based', 'restaurant', 'may', 'be', 'an', 'ideal.', 'it', 'does', \"n't\", 'have', 'a', 'food', 'chain', 'or', 'restaurant', 'of', 'their', 'own', '.']\n"
     ]
    }
   ],
   "source": [
    "from nltk.tokenize import TreebankWordTokenizer\n",
    "tokenizer=TreebankWordTokenizer()\n",
    "text=\"Starting a home-based restaurant may be an ideal. it doesn't have a food chain or restaurant of their own.\"\n",
    "print(tokenizer.tokenize(text))"
   ]
  },
  {
   "cell_type": "markdown",
   "id": "13531c33",
   "metadata": {},
   "source": [
    "<h2>문장 토큰화(Sentence Tokenization, 문장 분류)</h2>\n",
    ": 토큰의 단위가 문장(sentence)일 때의 토큰화 수행 방법<br><br>\n",
    "sent_tokenize를 이용한 NLTK 문장 토큰화 실습"
   ]
  },
  {
   "cell_type": "code",
   "execution_count": 5,
   "id": "4fa0f313",
   "metadata": {},
   "outputs": [
    {
     "name": "stdout",
     "output_type": "stream",
     "text": [
      "['His barber kept his word.', 'But keeping such a huge secret to himself was driving him crazy.', 'Finally, the barber went up a mountain and almost to the edge of a cliff.', 'He dug a hole in the midst of some reeds.', 'He looked about, to make sure no one was near.']\n"
     ]
    }
   ],
   "source": [
    "from nltk.tokenize import sent_tokenize\n",
    "text=\"His barber kept his word. But keeping such a huge secret to himself was driving him crazy. Finally, the barber went up a mountain and almost to the edge of a cliff. He dug a hole in the midst of some reeds. He looked about, to make sure no one was near.\"\n",
    "print(sent_tokenize(text))"
   ]
  },
  {
   "cell_type": "markdown",
   "id": "7e787b26",
   "metadata": {},
   "source": [
    "문장 중간에 마침표가 여러번 등장하는 경우"
   ]
  },
  {
   "cell_type": "code",
   "execution_count": 6,
   "id": "8dd6e136",
   "metadata": {},
   "outputs": [
    {
     "name": "stdout",
     "output_type": "stream",
     "text": [
      "['I am actively looking for Ph.D. students.', 'and you are a Ph.D student.']\n"
     ]
    }
   ],
   "source": [
    "from nltk.tokenize import sent_tokenize\n",
    "text=\"I am actively looking for Ph.D. students. and you are a Ph.D student.\"\n",
    "print(sent_tokenize(text))"
   ]
  },
  {
   "cell_type": "markdown",
   "id": "dc6bcc11",
   "metadata": {},
   "source": [
    "NLTK는 단순히 마침표를 구분자로 하여 문장을 구분하지 않았기 때문에, Ph.D.를 문장 내의 단어로 인식하여 성공적으로 인식."
   ]
  },
  {
   "cell_type": "code",
   "execution_count": 8,
   "id": "f90751f8",
   "metadata": {},
   "outputs": [
    {
     "name": "stdout",
     "output_type": "stream",
     "text": [
      "Collecting kss\n",
      "  Downloading kss-2.5.1-py3-none-any.whl (65 kB)\n",
      "Installing collected packages: kss\n",
      "Successfully installed kss-2.5.1\n",
      "Note: you may need to restart the kernel to use updated packages.\n"
     ]
    }
   ],
   "source": []
  }
 ],
 "metadata": {
  "kernelspec": {
   "display_name": "Python 3",
   "language": "python",
   "name": "python3"
  },
  "language_info": {
   "codemirror_mode": {
    "name": "ipython",
    "version": 3
   },
   "file_extension": ".py",
   "mimetype": "text/x-python",
   "name": "python",
   "nbconvert_exporter": "python",
   "pygments_lexer": "ipython3",
   "version": "3.7.10"
  }
 },
 "nbformat": 4,
 "nbformat_minor": 5
}
